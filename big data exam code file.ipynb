{
 "cells": [
  {
   "cell_type": "code",
   "execution_count": 0,
   "metadata": {
    "application/vnd.databricks.v1+cell": {
     "cellMetadata": {
      "byteLimit": 2048000,
      "implicitDf": true,
      "rowLimit": 10000
     },
     "inputWidgets": {},
     "nuid": "980e471f-41ca-41c0-a7bf-3c9fdcac9104",
     "showTitle": false,
     "tableResultSettingsMap": {},
     "title": ""
    }
   },
   "outputs": [
    {
     "output_type": "display_data",
     "data": {
      "text/html": [
       "<style scoped>\n",
       "  .table-result-container {\n",
       "    max-height: 300px;\n",
       "    overflow: auto;\n",
       "  }\n",
       "  table, th, td {\n",
       "    border: 1px solid black;\n",
       "    border-collapse: collapse;\n",
       "  }\n",
       "  th, td {\n",
       "    padding: 5px;\n",
       "  }\n",
       "  th {\n",
       "    text-align: left;\n",
       "  }\n",
       "</style><div class='table-result-container'><table class='table-result'><thead style='background-color: white'><tr><th>player_id</th><th>session_id</th><th>login</th><th>logout</th><th>purchase</th><th>play</th><th>amount_spent</th><th>timestamp</th></tr></thead><tbody><tr><td>P01</td><td>S001</td><td>1</td><td>0</td><td>0</td><td>0</td><td>0</td><td>8/2/2025 10:00</td></tr><tr><td>P01</td><td>S001</td><td>0</td><td>0</td><td>1</td><td>0</td><td>150</td><td>8/2/2025 10:25</td></tr><tr><td>P01</td><td>S001</td><td>0</td><td>1</td><td>0</td><td>0</td><td>0</td><td>8/2/2025 11:00</td></tr><tr><td>P05</td><td>S002</td><td>1</td><td>0</td><td>0</td><td>0</td><td>0</td><td>8/3/2025 9:10</td></tr><tr><td>P05</td><td>S002</td><td>0</td><td>0</td><td>0</td><td>1</td><td>0</td><td>8/3/2025 9:40</td></tr><tr><td>P05</td><td>S002</td><td>0</td><td>1</td><td>0</td><td>0</td><td>0</td><td>8/3/2025 10:05</td></tr><tr><td>P12</td><td>S003</td><td>1</td><td>0</td><td>0</td><td>0</td><td>0</td><td>8/4/2025 15:00</td></tr><tr><td>P12</td><td>S003</td><td>0</td><td>0</td><td>1</td><td>0</td><td>220</td><td>8/4/2025 15:35</td></tr><tr><td>P12</td><td>S003</td><td>0</td><td>1</td><td>0</td><td>0</td><td>0</td><td>8/4/2025 16:10</td></tr><tr><td>P03</td><td>S004</td><td>1</td><td>0</td><td>0</td><td>0</td><td>0</td><td>8/5/2025 14:00</td></tr><tr><td>P03</td><td>S004</td><td>0</td><td>0</td><td>0</td><td>1</td><td>0</td><td>8/5/2025 14:20</td></tr><tr><td>P03</td><td>S004</td><td>0</td><td>1</td><td>0</td><td>0</td><td>0</td><td>8/5/2025 14:55</td></tr><tr><td>P09</td><td>S005</td><td>1</td><td>0</td><td>0</td><td>0</td><td>0</td><td>8/6/2025 11:30</td></tr><tr><td>P09</td><td>S005</td><td>0</td><td>0</td><td>1</td><td>0</td><td>300</td><td>8/6/2025 11:50</td></tr><tr><td>P09</td><td>S005</td><td>0</td><td>1</td><td>0</td><td>0</td><td>0</td><td>8/6/2025 12:25</td></tr><tr><td>P07</td><td>S006</td><td>1</td><td>0</td><td>0</td><td>0</td><td>0</td><td>8/7/2025 18:05</td></tr><tr><td>P07</td><td>S006</td><td>0</td><td>0</td><td>0</td><td>1</td><td>0</td><td>8/7/2025 18:40</td></tr><tr><td>P07</td><td>S006</td><td>0</td><td>1</td><td>0</td><td>0</td><td>0</td><td>8/7/2025 19:15</td></tr><tr><td>P14</td><td>S007</td><td>1</td><td>0</td><td>0</td><td>0</td><td>0</td><td>8/8/2025 20:10</td></tr><tr><td>P14</td><td>S007</td><td>0</td><td>0</td><td>1</td><td>0</td><td>180</td><td>8/8/2025 20:40</td></tr><tr><td>P14</td><td>S007</td><td>0</td><td>1</td><td>0</td><td>0</td><td>0</td><td>8/8/2025 21:05</td></tr><tr><td>P10</td><td>S008</td><td>1</td><td>0</td><td>0</td><td>0</td><td>0</td><td>8/9/2025 8:20</td></tr><tr><td>P10</td><td>S008</td><td>0</td><td>0</td><td>0</td><td>1</td><td>0</td><td>8/9/2025 8:50</td></tr><tr><td>P10</td><td>S008</td><td>0</td><td>1</td><td>0</td><td>0</td><td>0</td><td>8/9/2025 9:25</td></tr><tr><td>P02</td><td>S009</td><td>1</td><td>0</td><td>0</td><td>0</td><td>0</td><td>8/10/2025 12:00</td></tr><tr><td>P02</td><td>S009</td><td>0</td><td>0</td><td>1</td><td>0</td><td>250</td><td>8/10/2025 12:30</td></tr><tr><td>P02</td><td>S009</td><td>0</td><td>1</td><td>0</td><td>0</td><td>0</td><td>8/10/2025 13:10</td></tr><tr><td>P16</td><td>S010</td><td>1</td><td>0</td><td>0</td><td>0</td><td>0</td><td>8/11/2025 16:45</td></tr><tr><td>P16</td><td>S010</td><td>0</td><td>0</td><td>0</td><td>1</td><td>0</td><td>8/11/2025 17:15</td></tr><tr><td>P16</td><td>S010</td><td>0</td><td>1</td><td>0</td><td>0</td><td>0</td><td>8/11/2025 17:50</td></tr><tr><td>P04</td><td>S011</td><td>1</td><td>0</td><td>0</td><td>0</td><td>0</td><td>9/1/2025 9:30</td></tr><tr><td>P04</td><td>S011</td><td>0</td><td>0</td><td>1</td><td>0</td><td>100</td><td>9/1/2025 10:00</td></tr><tr><td>P04</td><td>S011</td><td>0</td><td>1</td><td>0</td><td>0</td><td>0</td><td>9/1/2025 10:45</td></tr><tr><td>P18</td><td>S012</td><td>1</td><td>0</td><td>0</td><td>0</td><td>0</td><td>9/2/2025 13:00</td></tr><tr><td>P18</td><td>S012</td><td>0</td><td>0</td><td>0</td><td>1</td><td>0</td><td>9/2/2025 13:25</td></tr><tr><td>P18</td><td>S012</td><td>0</td><td>1</td><td>0</td><td>0</td><td>0</td><td>9/2/2025 13:55</td></tr><tr><td>P08</td><td>S013</td><td>1</td><td>0</td><td>0</td><td>0</td><td>0</td><td>9/3/2025 11:10</td></tr><tr><td>P08</td><td>S013</td><td>0</td><td>0</td><td>1</td><td>0</td><td>175</td><td>9/3/2025 11:35</td></tr><tr><td>P08</td><td>S013</td><td>0</td><td>1</td><td>0</td><td>0</td><td>0</td><td>9/3/2025 12:05</td></tr><tr><td>P11</td><td>S014</td><td>1</td><td>0</td><td>0</td><td>0</td><td>0</td><td>9/4/2025 15:15</td></tr><tr><td>P11</td><td>S014</td><td>0</td><td>0</td><td>0</td><td>1</td><td>0</td><td>9/4/2025 15:40</td></tr><tr><td>P11</td><td>S014</td><td>0</td><td>1</td><td>0</td><td>0</td><td>0</td><td>9/4/2025 16:05</td></tr><tr><td>P15</td><td>S015</td><td>1</td><td>0</td><td>0</td><td>0</td><td>0</td><td>9/5/2025 17:25</td></tr><tr><td>P15</td><td>S015</td><td>0</td><td>0</td><td>1</td><td>0</td><td>90</td><td>9/5/2025 17:50</td></tr><tr><td>P15</td><td>S015</td><td>0</td><td>1</td><td>0</td><td>0</td><td>0</td><td>9/5/2025 18:15</td></tr><tr><td>P06</td><td>S016</td><td>1</td><td>0</td><td>0</td><td>0</td><td>0</td><td>9/6/2025 18:40</td></tr><tr><td>P06</td><td>S016</td><td>0</td><td>0</td><td>0</td><td>1</td><td>0</td><td>9/6/2025 19:10</td></tr><tr><td>P06</td><td>S016</td><td>0</td><td>1</td><td>0</td><td>0</td><td>0</td><td>9/6/2025 19:45</td></tr><tr><td>P13</td><td>S017</td><td>1</td><td>0</td><td>0</td><td>0</td><td>0</td><td>9/7/2025 20:10</td></tr><tr><td>P13</td><td>S017</td><td>0</td><td>0</td><td>1</td><td>0</td><td>300</td><td>9/7/2025 20:35</td></tr><tr><td>P13</td><td>S017</td><td>0</td><td>1</td><td>0</td><td>0</td><td>0</td><td>9/7/2025 21:00</td></tr><tr><td>P17</td><td>S018</td><td>1</td><td>0</td><td>0</td><td>0</td><td>0</td><td>9/8/2025 9:00</td></tr><tr><td>P17</td><td>S018</td><td>0</td><td>0</td><td>0</td><td>1</td><td>0</td><td>9/8/2025 9:25</td></tr><tr><td>P17</td><td>S018</td><td>0</td><td>1</td><td>0</td><td>0</td><td>0</td><td>9/8/2025 9:55</td></tr><tr><td>P19</td><td>S019</td><td>1</td><td>0</td><td>0</td><td>0</td><td>0</td><td>9/9/2025 14:00</td></tr><tr><td>P19</td><td>S019</td><td>0</td><td>0</td><td>1</td><td>0</td><td>400</td><td>9/9/2025 14:30</td></tr><tr><td>P19</td><td>S019</td><td>0</td><td>1</td><td>0</td><td>0</td><td>0</td><td>9/9/2025 15:00</td></tr><tr><td>P20</td><td>S020</td><td>1</td><td>0</td><td>0</td><td>0</td><td>0</td><td>9/10/2025 10:00</td></tr><tr><td>P20</td><td>S020</td><td>0</td><td>0</td><td>0</td><td>1</td><td>0</td><td>9/10/2025 10:30</td></tr><tr><td>P20</td><td>S020</td><td>0</td><td>1</td><td>0</td><td>0</td><td>0</td><td>9/10/2025 11:00</td></tr></tbody></table></div>"
      ]
     },
     "metadata": {
      "application/vnd.databricks.v1+output": {
       "addedWidgets": {},
       "aggData": [],
       "aggError": "",
       "aggOverflow": false,
       "aggSchema": [],
       "aggSeriesLimitReached": false,
       "aggType": "",
       "arguments": {},
       "columnCustomDisplayInfos": {},
       "data": [
        [
         "P01",
         "S001",
         1,
         0,
         0,
         0,
         0,
         "8/2/2025 10:00"
        ],
        [
         "P01",
         "S001",
         0,
         0,
         1,
         0,
         150,
         "8/2/2025 10:25"
        ],
        [
         "P01",
         "S001",
         0,
         1,
         0,
         0,
         0,
         "8/2/2025 11:00"
        ],
        [
         "P05",
         "S002",
         1,
         0,
         0,
         0,
         0,
         "8/3/2025 9:10"
        ],
        [
         "P05",
         "S002",
         0,
         0,
         0,
         1,
         0,
         "8/3/2025 9:40"
        ],
        [
         "P05",
         "S002",
         0,
         1,
         0,
         0,
         0,
         "8/3/2025 10:05"
        ],
        [
         "P12",
         "S003",
         1,
         0,
         0,
         0,
         0,
         "8/4/2025 15:00"
        ],
        [
         "P12",
         "S003",
         0,
         0,
         1,
         0,
         220,
         "8/4/2025 15:35"
        ],
        [
         "P12",
         "S003",
         0,
         1,
         0,
         0,
         0,
         "8/4/2025 16:10"
        ],
        [
         "P03",
         "S004",
         1,
         0,
         0,
         0,
         0,
         "8/5/2025 14:00"
        ],
        [
         "P03",
         "S004",
         0,
         0,
         0,
         1,
         0,
         "8/5/2025 14:20"
        ],
        [
         "P03",
         "S004",
         0,
         1,
         0,
         0,
         0,
         "8/5/2025 14:55"
        ],
        [
         "P09",
         "S005",
         1,
         0,
         0,
         0,
         0,
         "8/6/2025 11:30"
        ],
        [
         "P09",
         "S005",
         0,
         0,
         1,
         0,
         300,
         "8/6/2025 11:50"
        ],
        [
         "P09",
         "S005",
         0,
         1,
         0,
         0,
         0,
         "8/6/2025 12:25"
        ],
        [
         "P07",
         "S006",
         1,
         0,
         0,
         0,
         0,
         "8/7/2025 18:05"
        ],
        [
         "P07",
         "S006",
         0,
         0,
         0,
         1,
         0,
         "8/7/2025 18:40"
        ],
        [
         "P07",
         "S006",
         0,
         1,
         0,
         0,
         0,
         "8/7/2025 19:15"
        ],
        [
         "P14",
         "S007",
         1,
         0,
         0,
         0,
         0,
         "8/8/2025 20:10"
        ],
        [
         "P14",
         "S007",
         0,
         0,
         1,
         0,
         180,
         "8/8/2025 20:40"
        ],
        [
         "P14",
         "S007",
         0,
         1,
         0,
         0,
         0,
         "8/8/2025 21:05"
        ],
        [
         "P10",
         "S008",
         1,
         0,
         0,
         0,
         0,
         "8/9/2025 8:20"
        ],
        [
         "P10",
         "S008",
         0,
         0,
         0,
         1,
         0,
         "8/9/2025 8:50"
        ],
        [
         "P10",
         "S008",
         0,
         1,
         0,
         0,
         0,
         "8/9/2025 9:25"
        ],
        [
         "P02",
         "S009",
         1,
         0,
         0,
         0,
         0,
         "8/10/2025 12:00"
        ],
        [
         "P02",
         "S009",
         0,
         0,
         1,
         0,
         250,
         "8/10/2025 12:30"
        ],
        [
         "P02",
         "S009",
         0,
         1,
         0,
         0,
         0,
         "8/10/2025 13:10"
        ],
        [
         "P16",
         "S010",
         1,
         0,
         0,
         0,
         0,
         "8/11/2025 16:45"
        ],
        [
         "P16",
         "S010",
         0,
         0,
         0,
         1,
         0,
         "8/11/2025 17:15"
        ],
        [
         "P16",
         "S010",
         0,
         1,
         0,
         0,
         0,
         "8/11/2025 17:50"
        ],
        [
         "P04",
         "S011",
         1,
         0,
         0,
         0,
         0,
         "9/1/2025 9:30"
        ],
        [
         "P04",
         "S011",
         0,
         0,
         1,
         0,
         100,
         "9/1/2025 10:00"
        ],
        [
         "P04",
         "S011",
         0,
         1,
         0,
         0,
         0,
         "9/1/2025 10:45"
        ],
        [
         "P18",
         "S012",
         1,
         0,
         0,
         0,
         0,
         "9/2/2025 13:00"
        ],
        [
         "P18",
         "S012",
         0,
         0,
         0,
         1,
         0,
         "9/2/2025 13:25"
        ],
        [
         "P18",
         "S012",
         0,
         1,
         0,
         0,
         0,
         "9/2/2025 13:55"
        ],
        [
         "P08",
         "S013",
         1,
         0,
         0,
         0,
         0,
         "9/3/2025 11:10"
        ],
        [
         "P08",
         "S013",
         0,
         0,
         1,
         0,
         175,
         "9/3/2025 11:35"
        ],
        [
         "P08",
         "S013",
         0,
         1,
         0,
         0,
         0,
         "9/3/2025 12:05"
        ],
        [
         "P11",
         "S014",
         1,
         0,
         0,
         0,
         0,
         "9/4/2025 15:15"
        ],
        [
         "P11",
         "S014",
         0,
         0,
         0,
         1,
         0,
         "9/4/2025 15:40"
        ],
        [
         "P11",
         "S014",
         0,
         1,
         0,
         0,
         0,
         "9/4/2025 16:05"
        ],
        [
         "P15",
         "S015",
         1,
         0,
         0,
         0,
         0,
         "9/5/2025 17:25"
        ],
        [
         "P15",
         "S015",
         0,
         0,
         1,
         0,
         90,
         "9/5/2025 17:50"
        ],
        [
         "P15",
         "S015",
         0,
         1,
         0,
         0,
         0,
         "9/5/2025 18:15"
        ],
        [
         "P06",
         "S016",
         1,
         0,
         0,
         0,
         0,
         "9/6/2025 18:40"
        ],
        [
         "P06",
         "S016",
         0,
         0,
         0,
         1,
         0,
         "9/6/2025 19:10"
        ],
        [
         "P06",
         "S016",
         0,
         1,
         0,
         0,
         0,
         "9/6/2025 19:45"
        ],
        [
         "P13",
         "S017",
         1,
         0,
         0,
         0,
         0,
         "9/7/2025 20:10"
        ],
        [
         "P13",
         "S017",
         0,
         0,
         1,
         0,
         300,
         "9/7/2025 20:35"
        ],
        [
         "P13",
         "S017",
         0,
         1,
         0,
         0,
         0,
         "9/7/2025 21:00"
        ],
        [
         "P17",
         "S018",
         1,
         0,
         0,
         0,
         0,
         "9/8/2025 9:00"
        ],
        [
         "P17",
         "S018",
         0,
         0,
         0,
         1,
         0,
         "9/8/2025 9:25"
        ],
        [
         "P17",
         "S018",
         0,
         1,
         0,
         0,
         0,
         "9/8/2025 9:55"
        ],
        [
         "P19",
         "S019",
         1,
         0,
         0,
         0,
         0,
         "9/9/2025 14:00"
        ],
        [
         "P19",
         "S019",
         0,
         0,
         1,
         0,
         400,
         "9/9/2025 14:30"
        ],
        [
         "P19",
         "S019",
         0,
         1,
         0,
         0,
         0,
         "9/9/2025 15:00"
        ],
        [
         "P20",
         "S020",
         1,
         0,
         0,
         0,
         0,
         "9/10/2025 10:00"
        ],
        [
         "P20",
         "S020",
         0,
         0,
         0,
         1,
         0,
         "9/10/2025 10:30"
        ],
        [
         "P20",
         "S020",
         0,
         1,
         0,
         0,
         0,
         "9/10/2025 11:00"
        ]
       ],
       "datasetInfos": [
        {
         "name": "_sqldf",
         "schema": {
          "fields": [
           {
            "metadata": {},
            "name": "player_id",
            "nullable": true,
            "type": "string"
           },
           {
            "metadata": {},
            "name": "session_id",
            "nullable": true,
            "type": "string"
           },
           {
            "metadata": {},
            "name": "login",
            "nullable": true,
            "type": "long"
           },
           {
            "metadata": {},
            "name": "logout",
            "nullable": true,
            "type": "long"
           },
           {
            "metadata": {},
            "name": "purchase",
            "nullable": true,
            "type": "long"
           },
           {
            "metadata": {},
            "name": "play",
            "nullable": true,
            "type": "long"
           },
           {
            "metadata": {},
            "name": "amount_spent",
            "nullable": true,
            "type": "long"
           },
           {
            "metadata": {},
            "name": "timestamp",
            "nullable": true,
            "type": "string"
           }
          ],
          "type": "struct"
         },
         "tableIdentifier": null,
         "typeStr": "pyspark.sql.connect.dataframe.DataFrame"
        }
       ],
       "dbfsResultPath": null,
       "isJsonSchema": true,
       "metadata": {
        "createTempViewForImplicitDf": true,
        "dataframeName": "_sqldf",
        "executionCount": 3
       },
       "overflow": false,
       "plotOptions": {
        "customPlotOptions": {},
        "displayType": "table",
        "pivotAggregation": null,
        "pivotColumns": null,
        "xColumns": null,
        "yColumns": null
       },
       "removedWidgets": [],
       "schema": [
        {
         "metadata": "{}",
         "name": "player_id",
         "type": "\"string\""
        },
        {
         "metadata": "{}",
         "name": "session_id",
         "type": "\"string\""
        },
        {
         "metadata": "{}",
         "name": "login",
         "type": "\"long\""
        },
        {
         "metadata": "{}",
         "name": "logout",
         "type": "\"long\""
        },
        {
         "metadata": "{}",
         "name": "purchase",
         "type": "\"long\""
        },
        {
         "metadata": "{}",
         "name": "play",
         "type": "\"long\""
        },
        {
         "metadata": "{}",
         "name": "amount_spent",
         "type": "\"long\""
        },
        {
         "metadata": "{}",
         "name": "timestamp",
         "type": "\"string\""
        }
       ],
       "type": "table"
      }
     },
     "output_type": "display_data"
    }
   ],
   "source": [
    "%sql\n",
    "SELECT * FROM `workspace`.`default`.`session`;"
   ]
  },
  {
   "cell_type": "code",
   "execution_count": 0,
   "metadata": {
    "application/vnd.databricks.v1+cell": {
     "cellMetadata": {
      "byteLimit": 2048000,
      "rowLimit": 10000
     },
     "inputWidgets": {},
     "nuid": "9b5575c1-4170-4095-a9f6-11a26fe0b54c",
     "showTitle": false,
     "tableResultSettingsMap": {},
     "title": ""
    }
   },
   "outputs": [
    {
     "output_type": "display_data",
     "data": {
      "text/html": [
       "<style scoped>\n",
       "  .table-result-container {\n",
       "    max-height: 300px;\n",
       "    overflow: auto;\n",
       "  }\n",
       "  table, th, td {\n",
       "    border: 1px solid black;\n",
       "    border-collapse: collapse;\n",
       "  }\n",
       "  th, td {\n",
       "    padding: 5px;\n",
       "  }\n",
       "  th {\n",
       "    text-align: left;\n",
       "  }\n",
       "</style><div class='table-result-container'><table class='table-result'><thead style='background-color: white'><tr><th>player_id</th><th>player_name</th><th>country</th></tr></thead><tbody><tr><td>P01</td><td>Rajesh</td><td>Canada</td></tr><tr><td>P02</td><td>Pooja</td><td>UK</td></tr><tr><td>P03</td><td>Alok</td><td>UK</td></tr><tr><td>P04</td><td>Suresh</td><td>India</td></tr><tr><td>P05</td><td>Arjun</td><td>UK</td></tr><tr><td>P06</td><td>Pooja</td><td>Germany</td></tr><tr><td>P07</td><td>Meena</td><td>India</td></tr><tr><td>P08</td><td>Alok</td><td>India</td></tr><tr><td>P09</td><td>Sneha</td><td>UK</td></tr><tr><td>P10</td><td>Sunita</td><td>Canada</td></tr><tr><td>P11</td><td>Meena</td><td>India</td></tr><tr><td>P12</td><td>Neha</td><td>Germany</td></tr><tr><td>P13</td><td>Neha</td><td>India</td></tr><tr><td>P14</td><td>Neha</td><td>Germany</td></tr><tr><td>P15</td><td>Amit</td><td>India</td></tr><tr><td>P16</td><td>Vikas</td><td>Canada</td></tr><tr><td>P17</td><td>Deepak</td><td>USA</td></tr><tr><td>P18</td><td>Suresh</td><td>Germany</td></tr><tr><td>P19</td><td>Ravi</td><td>USA</td></tr><tr><td>P20</td><td>Pooja</td><td>Canada</td></tr><tr><td>P21</td><td>Suresh</td><td>UK</td></tr><tr><td>P22</td><td>Priya</td><td>Canada</td></tr><tr><td>P23</td><td>Pooja</td><td>UK</td></tr><tr><td>P24</td><td>Meena</td><td>Germany</td></tr><tr><td>P25</td><td>Anil</td><td>Canada</td></tr><tr><td>P26</td><td>Suresh</td><td>Germany</td></tr><tr><td>P27</td><td>Amit</td><td>India</td></tr><tr><td>P28</td><td>Rahul</td><td>Germany</td></tr><tr><td>P29</td><td>Rajesh</td><td>Germany</td></tr><tr><td>P30</td><td>Pooja</td><td>Germany</td></tr><tr><td>P31</td><td>Arjun</td><td>USA</td></tr><tr><td>P32</td><td>Alok</td><td>India</td></tr><tr><td>P33</td><td>Pooja</td><td>USA</td></tr><tr><td>P34</td><td>Ravi</td><td>India</td></tr><tr><td>P35</td><td>Suresh</td><td>Canada</td></tr><tr><td>P36</td><td>Amit</td><td>India</td></tr><tr><td>P37</td><td>Arjun</td><td>India</td></tr><tr><td>P38</td><td>Ravi</td><td>Germany</td></tr><tr><td>P39</td><td>Vikas</td><td>Canada</td></tr><tr><td>P40</td><td>Nisha</td><td>Germany</td></tr><tr><td>P41</td><td>Sunita</td><td>India</td></tr><tr><td>P42</td><td>Priya</td><td>Canada</td></tr><tr><td>P43</td><td>Manoj</td><td>Germany</td></tr><tr><td>P44</td><td>Sunita</td><td>Germany</td></tr><tr><td>P45</td><td>Rajesh</td><td>UK</td></tr><tr><td>P46</td><td>Sneha</td><td>UK</td></tr><tr><td>P47</td><td>Deepak</td><td>Canada</td></tr><tr><td>P48</td><td>Manoj</td><td>USA</td></tr><tr><td>P49</td><td>Alok</td><td>Canada</td></tr><tr><td>P50</td><td>Ravi</td><td>USA</td></tr><tr><td>P51</td><td>Suresh</td><td>Germany</td></tr><tr><td>P52</td><td>Suresh</td><td>Germany</td></tr><tr><td>P53</td><td>Kiran</td><td>Germany</td></tr><tr><td>P54</td><td>Anil</td><td>USA</td></tr><tr><td>P55</td><td>Arjun</td><td>UK</td></tr><tr><td>P56</td><td>Anil</td><td>India</td></tr><tr><td>P57</td><td>Sneha</td><td>Germany</td></tr><tr><td>P58</td><td>Komal</td><td>Germany</td></tr><tr><td>P59</td><td>Anil</td><td>Canada</td></tr><tr><td>P60</td><td>Nisha</td><td>Canada</td></tr></tbody></table></div>"
      ]
     },
     "metadata": {
      "application/vnd.databricks.v1+output": {
       "addedWidgets": {},
       "aggData": [],
       "aggError": "",
       "aggOverflow": false,
       "aggSchema": [],
       "aggSeriesLimitReached": false,
       "aggType": "",
       "arguments": {},
       "columnCustomDisplayInfos": {},
       "data": [
        [
         "P01",
         "Rajesh",
         "Canada"
        ],
        [
         "P02",
         "Pooja",
         "UK"
        ],
        [
         "P03",
         "Alok",
         "UK"
        ],
        [
         "P04",
         "Suresh",
         "India"
        ],
        [
         "P05",
         "Arjun",
         "UK"
        ],
        [
         "P06",
         "Pooja",
         "Germany"
        ],
        [
         "P07",
         "Meena",
         "India"
        ],
        [
         "P08",
         "Alok",
         "India"
        ],
        [
         "P09",
         "Sneha",
         "UK"
        ],
        [
         "P10",
         "Sunita",
         "Canada"
        ],
        [
         "P11",
         "Meena",
         "India"
        ],
        [
         "P12",
         "Neha",
         "Germany"
        ],
        [
         "P13",
         "Neha",
         "India"
        ],
        [
         "P14",
         "Neha",
         "Germany"
        ],
        [
         "P15",
         "Amit",
         "India"
        ],
        [
         "P16",
         "Vikas",
         "Canada"
        ],
        [
         "P17",
         "Deepak",
         "USA"
        ],
        [
         "P18",
         "Suresh",
         "Germany"
        ],
        [
         "P19",
         "Ravi",
         "USA"
        ],
        [
         "P20",
         "Pooja",
         "Canada"
        ],
        [
         "P21",
         "Suresh",
         "UK"
        ],
        [
         "P22",
         "Priya",
         "Canada"
        ],
        [
         "P23",
         "Pooja",
         "UK"
        ],
        [
         "P24",
         "Meena",
         "Germany"
        ],
        [
         "P25",
         "Anil",
         "Canada"
        ],
        [
         "P26",
         "Suresh",
         "Germany"
        ],
        [
         "P27",
         "Amit",
         "India"
        ],
        [
         "P28",
         "Rahul",
         "Germany"
        ],
        [
         "P29",
         "Rajesh",
         "Germany"
        ],
        [
         "P30",
         "Pooja",
         "Germany"
        ],
        [
         "P31",
         "Arjun",
         "USA"
        ],
        [
         "P32",
         "Alok",
         "India"
        ],
        [
         "P33",
         "Pooja",
         "USA"
        ],
        [
         "P34",
         "Ravi",
         "India"
        ],
        [
         "P35",
         "Suresh",
         "Canada"
        ],
        [
         "P36",
         "Amit",
         "India"
        ],
        [
         "P37",
         "Arjun",
         "India"
        ],
        [
         "P38",
         "Ravi",
         "Germany"
        ],
        [
         "P39",
         "Vikas",
         "Canada"
        ],
        [
         "P40",
         "Nisha",
         "Germany"
        ],
        [
         "P41",
         "Sunita",
         "India"
        ],
        [
         "P42",
         "Priya",
         "Canada"
        ],
        [
         "P43",
         "Manoj",
         "Germany"
        ],
        [
         "P44",
         "Sunita",
         "Germany"
        ],
        [
         "P45",
         "Rajesh",
         "UK"
        ],
        [
         "P46",
         "Sneha",
         "UK"
        ],
        [
         "P47",
         "Deepak",
         "Canada"
        ],
        [
         "P48",
         "Manoj",
         "USA"
        ],
        [
         "P49",
         "Alok",
         "Canada"
        ],
        [
         "P50",
         "Ravi",
         "USA"
        ],
        [
         "P51",
         "Suresh",
         "Germany"
        ],
        [
         "P52",
         "Suresh",
         "Germany"
        ],
        [
         "P53",
         "Kiran",
         "Germany"
        ],
        [
         "P54",
         "Anil",
         "USA"
        ],
        [
         "P55",
         "Arjun",
         "UK"
        ],
        [
         "P56",
         "Anil",
         "India"
        ],
        [
         "P57",
         "Sneha",
         "Germany"
        ],
        [
         "P58",
         "Komal",
         "Germany"
        ],
        [
         "P59",
         "Anil",
         "Canada"
        ],
        [
         "P60",
         "Nisha",
         "Canada"
        ]
       ],
       "datasetInfos": [],
       "dbfsResultPath": null,
       "isJsonSchema": true,
       "metadata": {},
       "overflow": false,
       "plotOptions": {
        "customPlotOptions": {},
        "displayType": "table",
        "pivotAggregation": null,
        "pivotColumns": null,
        "xColumns": null,
        "yColumns": null
       },
       "removedWidgets": [],
       "schema": [
        {
         "metadata": "{}",
         "name": "player_id",
         "type": "\"string\""
        },
        {
         "metadata": "{}",
         "name": "player_name",
         "type": "\"string\""
        },
        {
         "metadata": "{}",
         "name": "country",
         "type": "\"string\""
        }
       ],
       "type": "table"
      }
     },
     "output_type": "display_data"
    }
   ],
   "source": [
    "# Load table into DataFrame\n",
    "df1 = spark.table(\"players_dataset_1\")\n",
    "\n",
    "# Show data\n",
    "display(df1)"
   ]
  },
  {
   "cell_type": "code",
   "execution_count": 0,
   "metadata": {
    "application/vnd.databricks.v1+cell": {
     "cellMetadata": {
      "byteLimit": 2048000,
      "rowLimit": 10000
     },
     "inputWidgets": {},
     "nuid": "b578594d-c7c1-49dc-bdd2-b3cbc7e86d26",
     "showTitle": false,
     "tableResultSettingsMap": {},
     "title": ""
    }
   },
   "outputs": [
    {
     "output_type": "display_data",
     "data": {
      "text/html": [
       "<style scoped>\n",
       "  .table-result-container {\n",
       "    max-height: 300px;\n",
       "    overflow: auto;\n",
       "  }\n",
       "  table, th, td {\n",
       "    border: 1px solid black;\n",
       "    border-collapse: collapse;\n",
       "  }\n",
       "  th, td {\n",
       "    padding: 5px;\n",
       "  }\n",
       "  th {\n",
       "    text-align: left;\n",
       "  }\n",
       "</style><div class='table-result-container'><table class='table-result'><thead style='background-color: white'><tr><th>player_id</th><th>session_id</th><th>login</th><th>logout</th><th>purchase</th><th>play</th><th>amount_spent</th><th>timestamp</th></tr></thead><tbody><tr><td>P01</td><td>S001</td><td>1</td><td>0</td><td>0</td><td>0</td><td>0</td><td>8/2/2025 10:00</td></tr><tr><td>P01</td><td>S001</td><td>0</td><td>0</td><td>1</td><td>0</td><td>150</td><td>8/2/2025 10:25</td></tr><tr><td>P01</td><td>S001</td><td>0</td><td>1</td><td>0</td><td>0</td><td>0</td><td>8/2/2025 11:00</td></tr><tr><td>P05</td><td>S002</td><td>1</td><td>0</td><td>0</td><td>0</td><td>0</td><td>8/3/2025 9:10</td></tr><tr><td>P05</td><td>S002</td><td>0</td><td>0</td><td>0</td><td>1</td><td>0</td><td>8/3/2025 9:40</td></tr><tr><td>P05</td><td>S002</td><td>0</td><td>1</td><td>0</td><td>0</td><td>0</td><td>8/3/2025 10:05</td></tr><tr><td>P12</td><td>S003</td><td>1</td><td>0</td><td>0</td><td>0</td><td>0</td><td>8/4/2025 15:00</td></tr><tr><td>P12</td><td>S003</td><td>0</td><td>0</td><td>1</td><td>0</td><td>220</td><td>8/4/2025 15:35</td></tr><tr><td>P12</td><td>S003</td><td>0</td><td>1</td><td>0</td><td>0</td><td>0</td><td>8/4/2025 16:10</td></tr><tr><td>P03</td><td>S004</td><td>1</td><td>0</td><td>0</td><td>0</td><td>0</td><td>8/5/2025 14:00</td></tr><tr><td>P03</td><td>S004</td><td>0</td><td>0</td><td>0</td><td>1</td><td>0</td><td>8/5/2025 14:20</td></tr><tr><td>P03</td><td>S004</td><td>0</td><td>1</td><td>0</td><td>0</td><td>0</td><td>8/5/2025 14:55</td></tr><tr><td>P09</td><td>S005</td><td>1</td><td>0</td><td>0</td><td>0</td><td>0</td><td>8/6/2025 11:30</td></tr><tr><td>P09</td><td>S005</td><td>0</td><td>0</td><td>1</td><td>0</td><td>300</td><td>8/6/2025 11:50</td></tr><tr><td>P09</td><td>S005</td><td>0</td><td>1</td><td>0</td><td>0</td><td>0</td><td>8/6/2025 12:25</td></tr><tr><td>P07</td><td>S006</td><td>1</td><td>0</td><td>0</td><td>0</td><td>0</td><td>8/7/2025 18:05</td></tr><tr><td>P07</td><td>S006</td><td>0</td><td>0</td><td>0</td><td>1</td><td>0</td><td>8/7/2025 18:40</td></tr><tr><td>P07</td><td>S006</td><td>0</td><td>1</td><td>0</td><td>0</td><td>0</td><td>8/7/2025 19:15</td></tr><tr><td>P14</td><td>S007</td><td>1</td><td>0</td><td>0</td><td>0</td><td>0</td><td>8/8/2025 20:10</td></tr><tr><td>P14</td><td>S007</td><td>0</td><td>0</td><td>1</td><td>0</td><td>180</td><td>8/8/2025 20:40</td></tr><tr><td>P14</td><td>S007</td><td>0</td><td>1</td><td>0</td><td>0</td><td>0</td><td>8/8/2025 21:05</td></tr><tr><td>P10</td><td>S008</td><td>1</td><td>0</td><td>0</td><td>0</td><td>0</td><td>8/9/2025 8:20</td></tr><tr><td>P10</td><td>S008</td><td>0</td><td>0</td><td>0</td><td>1</td><td>0</td><td>8/9/2025 8:50</td></tr><tr><td>P10</td><td>S008</td><td>0</td><td>1</td><td>0</td><td>0</td><td>0</td><td>8/9/2025 9:25</td></tr><tr><td>P02</td><td>S009</td><td>1</td><td>0</td><td>0</td><td>0</td><td>0</td><td>8/10/2025 12:00</td></tr><tr><td>P02</td><td>S009</td><td>0</td><td>0</td><td>1</td><td>0</td><td>250</td><td>8/10/2025 12:30</td></tr><tr><td>P02</td><td>S009</td><td>0</td><td>1</td><td>0</td><td>0</td><td>0</td><td>8/10/2025 13:10</td></tr><tr><td>P16</td><td>S010</td><td>1</td><td>0</td><td>0</td><td>0</td><td>0</td><td>8/11/2025 16:45</td></tr><tr><td>P16</td><td>S010</td><td>0</td><td>0</td><td>0</td><td>1</td><td>0</td><td>8/11/2025 17:15</td></tr><tr><td>P16</td><td>S010</td><td>0</td><td>1</td><td>0</td><td>0</td><td>0</td><td>8/11/2025 17:50</td></tr><tr><td>P04</td><td>S011</td><td>1</td><td>0</td><td>0</td><td>0</td><td>0</td><td>9/1/2025 9:30</td></tr><tr><td>P04</td><td>S011</td><td>0</td><td>0</td><td>1</td><td>0</td><td>100</td><td>9/1/2025 10:00</td></tr><tr><td>P04</td><td>S011</td><td>0</td><td>1</td><td>0</td><td>0</td><td>0</td><td>9/1/2025 10:45</td></tr><tr><td>P18</td><td>S012</td><td>1</td><td>0</td><td>0</td><td>0</td><td>0</td><td>9/2/2025 13:00</td></tr><tr><td>P18</td><td>S012</td><td>0</td><td>0</td><td>0</td><td>1</td><td>0</td><td>9/2/2025 13:25</td></tr><tr><td>P18</td><td>S012</td><td>0</td><td>1</td><td>0</td><td>0</td><td>0</td><td>9/2/2025 13:55</td></tr><tr><td>P08</td><td>S013</td><td>1</td><td>0</td><td>0</td><td>0</td><td>0</td><td>9/3/2025 11:10</td></tr><tr><td>P08</td><td>S013</td><td>0</td><td>0</td><td>1</td><td>0</td><td>175</td><td>9/3/2025 11:35</td></tr><tr><td>P08</td><td>S013</td><td>0</td><td>1</td><td>0</td><td>0</td><td>0</td><td>9/3/2025 12:05</td></tr><tr><td>P11</td><td>S014</td><td>1</td><td>0</td><td>0</td><td>0</td><td>0</td><td>9/4/2025 15:15</td></tr><tr><td>P11</td><td>S014</td><td>0</td><td>0</td><td>0</td><td>1</td><td>0</td><td>9/4/2025 15:40</td></tr><tr><td>P11</td><td>S014</td><td>0</td><td>1</td><td>0</td><td>0</td><td>0</td><td>9/4/2025 16:05</td></tr><tr><td>P15</td><td>S015</td><td>1</td><td>0</td><td>0</td><td>0</td><td>0</td><td>9/5/2025 17:25</td></tr><tr><td>P15</td><td>S015</td><td>0</td><td>0</td><td>1</td><td>0</td><td>90</td><td>9/5/2025 17:50</td></tr><tr><td>P15</td><td>S015</td><td>0</td><td>1</td><td>0</td><td>0</td><td>0</td><td>9/5/2025 18:15</td></tr><tr><td>P06</td><td>S016</td><td>1</td><td>0</td><td>0</td><td>0</td><td>0</td><td>9/6/2025 18:40</td></tr><tr><td>P06</td><td>S016</td><td>0</td><td>0</td><td>0</td><td>1</td><td>0</td><td>9/6/2025 19:10</td></tr><tr><td>P06</td><td>S016</td><td>0</td><td>1</td><td>0</td><td>0</td><td>0</td><td>9/6/2025 19:45</td></tr><tr><td>P13</td><td>S017</td><td>1</td><td>0</td><td>0</td><td>0</td><td>0</td><td>9/7/2025 20:10</td></tr><tr><td>P13</td><td>S017</td><td>0</td><td>0</td><td>1</td><td>0</td><td>300</td><td>9/7/2025 20:35</td></tr><tr><td>P13</td><td>S017</td><td>0</td><td>1</td><td>0</td><td>0</td><td>0</td><td>9/7/2025 21:00</td></tr><tr><td>P17</td><td>S018</td><td>1</td><td>0</td><td>0</td><td>0</td><td>0</td><td>9/8/2025 9:00</td></tr><tr><td>P17</td><td>S018</td><td>0</td><td>0</td><td>0</td><td>1</td><td>0</td><td>9/8/2025 9:25</td></tr><tr><td>P17</td><td>S018</td><td>0</td><td>1</td><td>0</td><td>0</td><td>0</td><td>9/8/2025 9:55</td></tr><tr><td>P19</td><td>S019</td><td>1</td><td>0</td><td>0</td><td>0</td><td>0</td><td>9/9/2025 14:00</td></tr><tr><td>P19</td><td>S019</td><td>0</td><td>0</td><td>1</td><td>0</td><td>400</td><td>9/9/2025 14:30</td></tr><tr><td>P19</td><td>S019</td><td>0</td><td>1</td><td>0</td><td>0</td><td>0</td><td>9/9/2025 15:00</td></tr><tr><td>P20</td><td>S020</td><td>1</td><td>0</td><td>0</td><td>0</td><td>0</td><td>9/10/2025 10:00</td></tr><tr><td>P20</td><td>S020</td><td>0</td><td>0</td><td>0</td><td>1</td><td>0</td><td>9/10/2025 10:30</td></tr><tr><td>P20</td><td>S020</td><td>0</td><td>1</td><td>0</td><td>0</td><td>0</td><td>9/10/2025 11:00</td></tr></tbody></table></div>"
      ]
     },
     "metadata": {
      "application/vnd.databricks.v1+output": {
       "addedWidgets": {},
       "aggData": [],
       "aggError": "",
       "aggOverflow": false,
       "aggSchema": [],
       "aggSeriesLimitReached": false,
       "aggType": "",
       "arguments": {},
       "columnCustomDisplayInfos": {},
       "data": [
        [
         "P01",
         "S001",
         1,
         0,
         0,
         0,
         0,
         "8/2/2025 10:00"
        ],
        [
         "P01",
         "S001",
         0,
         0,
         1,
         0,
         150,
         "8/2/2025 10:25"
        ],
        [
         "P01",
         "S001",
         0,
         1,
         0,
         0,
         0,
         "8/2/2025 11:00"
        ],
        [
         "P05",
         "S002",
         1,
         0,
         0,
         0,
         0,
         "8/3/2025 9:10"
        ],
        [
         "P05",
         "S002",
         0,
         0,
         0,
         1,
         0,
         "8/3/2025 9:40"
        ],
        [
         "P05",
         "S002",
         0,
         1,
         0,
         0,
         0,
         "8/3/2025 10:05"
        ],
        [
         "P12",
         "S003",
         1,
         0,
         0,
         0,
         0,
         "8/4/2025 15:00"
        ],
        [
         "P12",
         "S003",
         0,
         0,
         1,
         0,
         220,
         "8/4/2025 15:35"
        ],
        [
         "P12",
         "S003",
         0,
         1,
         0,
         0,
         0,
         "8/4/2025 16:10"
        ],
        [
         "P03",
         "S004",
         1,
         0,
         0,
         0,
         0,
         "8/5/2025 14:00"
        ],
        [
         "P03",
         "S004",
         0,
         0,
         0,
         1,
         0,
         "8/5/2025 14:20"
        ],
        [
         "P03",
         "S004",
         0,
         1,
         0,
         0,
         0,
         "8/5/2025 14:55"
        ],
        [
         "P09",
         "S005",
         1,
         0,
         0,
         0,
         0,
         "8/6/2025 11:30"
        ],
        [
         "P09",
         "S005",
         0,
         0,
         1,
         0,
         300,
         "8/6/2025 11:50"
        ],
        [
         "P09",
         "S005",
         0,
         1,
         0,
         0,
         0,
         "8/6/2025 12:25"
        ],
        [
         "P07",
         "S006",
         1,
         0,
         0,
         0,
         0,
         "8/7/2025 18:05"
        ],
        [
         "P07",
         "S006",
         0,
         0,
         0,
         1,
         0,
         "8/7/2025 18:40"
        ],
        [
         "P07",
         "S006",
         0,
         1,
         0,
         0,
         0,
         "8/7/2025 19:15"
        ],
        [
         "P14",
         "S007",
         1,
         0,
         0,
         0,
         0,
         "8/8/2025 20:10"
        ],
        [
         "P14",
         "S007",
         0,
         0,
         1,
         0,
         180,
         "8/8/2025 20:40"
        ],
        [
         "P14",
         "S007",
         0,
         1,
         0,
         0,
         0,
         "8/8/2025 21:05"
        ],
        [
         "P10",
         "S008",
         1,
         0,
         0,
         0,
         0,
         "8/9/2025 8:20"
        ],
        [
         "P10",
         "S008",
         0,
         0,
         0,
         1,
         0,
         "8/9/2025 8:50"
        ],
        [
         "P10",
         "S008",
         0,
         1,
         0,
         0,
         0,
         "8/9/2025 9:25"
        ],
        [
         "P02",
         "S009",
         1,
         0,
         0,
         0,
         0,
         "8/10/2025 12:00"
        ],
        [
         "P02",
         "S009",
         0,
         0,
         1,
         0,
         250,
         "8/10/2025 12:30"
        ],
        [
         "P02",
         "S009",
         0,
         1,
         0,
         0,
         0,
         "8/10/2025 13:10"
        ],
        [
         "P16",
         "S010",
         1,
         0,
         0,
         0,
         0,
         "8/11/2025 16:45"
        ],
        [
         "P16",
         "S010",
         0,
         0,
         0,
         1,
         0,
         "8/11/2025 17:15"
        ],
        [
         "P16",
         "S010",
         0,
         1,
         0,
         0,
         0,
         "8/11/2025 17:50"
        ],
        [
         "P04",
         "S011",
         1,
         0,
         0,
         0,
         0,
         "9/1/2025 9:30"
        ],
        [
         "P04",
         "S011",
         0,
         0,
         1,
         0,
         100,
         "9/1/2025 10:00"
        ],
        [
         "P04",
         "S011",
         0,
         1,
         0,
         0,
         0,
         "9/1/2025 10:45"
        ],
        [
         "P18",
         "S012",
         1,
         0,
         0,
         0,
         0,
         "9/2/2025 13:00"
        ],
        [
         "P18",
         "S012",
         0,
         0,
         0,
         1,
         0,
         "9/2/2025 13:25"
        ],
        [
         "P18",
         "S012",
         0,
         1,
         0,
         0,
         0,
         "9/2/2025 13:55"
        ],
        [
         "P08",
         "S013",
         1,
         0,
         0,
         0,
         0,
         "9/3/2025 11:10"
        ],
        [
         "P08",
         "S013",
         0,
         0,
         1,
         0,
         175,
         "9/3/2025 11:35"
        ],
        [
         "P08",
         "S013",
         0,
         1,
         0,
         0,
         0,
         "9/3/2025 12:05"
        ],
        [
         "P11",
         "S014",
         1,
         0,
         0,
         0,
         0,
         "9/4/2025 15:15"
        ],
        [
         "P11",
         "S014",
         0,
         0,
         0,
         1,
         0,
         "9/4/2025 15:40"
        ],
        [
         "P11",
         "S014",
         0,
         1,
         0,
         0,
         0,
         "9/4/2025 16:05"
        ],
        [
         "P15",
         "S015",
         1,
         0,
         0,
         0,
         0,
         "9/5/2025 17:25"
        ],
        [
         "P15",
         "S015",
         0,
         0,
         1,
         0,
         90,
         "9/5/2025 17:50"
        ],
        [
         "P15",
         "S015",
         0,
         1,
         0,
         0,
         0,
         "9/5/2025 18:15"
        ],
        [
         "P06",
         "S016",
         1,
         0,
         0,
         0,
         0,
         "9/6/2025 18:40"
        ],
        [
         "P06",
         "S016",
         0,
         0,
         0,
         1,
         0,
         "9/6/2025 19:10"
        ],
        [
         "P06",
         "S016",
         0,
         1,
         0,
         0,
         0,
         "9/6/2025 19:45"
        ],
        [
         "P13",
         "S017",
         1,
         0,
         0,
         0,
         0,
         "9/7/2025 20:10"
        ],
        [
         "P13",
         "S017",
         0,
         0,
         1,
         0,
         300,
         "9/7/2025 20:35"
        ],
        [
         "P13",
         "S017",
         0,
         1,
         0,
         0,
         0,
         "9/7/2025 21:00"
        ],
        [
         "P17",
         "S018",
         1,
         0,
         0,
         0,
         0,
         "9/8/2025 9:00"
        ],
        [
         "P17",
         "S018",
         0,
         0,
         0,
         1,
         0,
         "9/8/2025 9:25"
        ],
        [
         "P17",
         "S018",
         0,
         1,
         0,
         0,
         0,
         "9/8/2025 9:55"
        ],
        [
         "P19",
         "S019",
         1,
         0,
         0,
         0,
         0,
         "9/9/2025 14:00"
        ],
        [
         "P19",
         "S019",
         0,
         0,
         1,
         0,
         400,
         "9/9/2025 14:30"
        ],
        [
         "P19",
         "S019",
         0,
         1,
         0,
         0,
         0,
         "9/9/2025 15:00"
        ],
        [
         "P20",
         "S020",
         1,
         0,
         0,
         0,
         0,
         "9/10/2025 10:00"
        ],
        [
         "P20",
         "S020",
         0,
         0,
         0,
         1,
         0,
         "9/10/2025 10:30"
        ],
        [
         "P20",
         "S020",
         0,
         1,
         0,
         0,
         0,
         "9/10/2025 11:00"
        ]
       ],
       "datasetInfos": [],
       "dbfsResultPath": null,
       "isJsonSchema": true,
       "metadata": {},
       "overflow": false,
       "plotOptions": {
        "customPlotOptions": {},
        "displayType": "table",
        "pivotAggregation": null,
        "pivotColumns": null,
        "xColumns": null,
        "yColumns": null
       },
       "removedWidgets": [],
       "schema": [
        {
         "metadata": "{}",
         "name": "player_id",
         "type": "\"string\""
        },
        {
         "metadata": "{}",
         "name": "session_id",
         "type": "\"string\""
        },
        {
         "metadata": "{}",
         "name": "login",
         "type": "\"long\""
        },
        {
         "metadata": "{}",
         "name": "logout",
         "type": "\"long\""
        },
        {
         "metadata": "{}",
         "name": "purchase",
         "type": "\"long\""
        },
        {
         "metadata": "{}",
         "name": "play",
         "type": "\"long\""
        },
        {
         "metadata": "{}",
         "name": "amount_spent",
         "type": "\"long\""
        },
        {
         "metadata": "{}",
         "name": "timestamp",
         "type": "\"string\""
        }
       ],
       "type": "table"
      }
     },
     "output_type": "display_data"
    }
   ],
   "source": [
    "df2 = spark.table(\"session\")\n",
    "# Show data\n",
    "display(df2)\n"
   ]
  },
  {
   "cell_type": "code",
   "execution_count": 0,
   "metadata": {
    "application/vnd.databricks.v1+cell": {
     "cellMetadata": {
      "byteLimit": 2048000,
      "rowLimit": 10000
     },
     "inputWidgets": {},
     "nuid": "43139622-6ee9-43fd-ab8b-1af59620a7a9",
     "showTitle": false,
     "tableResultSettingsMap": {},
     "title": ""
    }
   },
   "outputs": [
    {
     "output_type": "display_data",
     "data": {
      "text/html": [
       "<style scoped>\n",
       "  .table-result-container {\n",
       "    max-height: 300px;\n",
       "    overflow: auto;\n",
       "  }\n",
       "  table, th, td {\n",
       "    border: 1px solid black;\n",
       "    border-collapse: collapse;\n",
       "  }\n",
       "  th, td {\n",
       "    padding: 5px;\n",
       "  }\n",
       "  th {\n",
       "    text-align: left;\n",
       "  }\n",
       "</style><div class='table-result-container'><table class='table-result'><thead style='background-color: white'><tr><th>player_id</th><th>session_id</th><th>login</th><th>logout</th><th>purchase</th><th>play</th><th>amount_spent</th><th>timestamp</th><th>player_id</th><th>player_name</th><th>country</th></tr></thead><tbody><tr><td>P01</td><td>S001</td><td>1</td><td>0</td><td>0</td><td>0</td><td>0</td><td>8/2/2025 10:00</td><td>P01</td><td>Rajesh</td><td>Canada</td></tr><tr><td>P01</td><td>S001</td><td>0</td><td>0</td><td>1</td><td>0</td><td>150</td><td>8/2/2025 10:25</td><td>P01</td><td>Rajesh</td><td>Canada</td></tr><tr><td>P01</td><td>S001</td><td>0</td><td>1</td><td>0</td><td>0</td><td>0</td><td>8/2/2025 11:00</td><td>P01</td><td>Rajesh</td><td>Canada</td></tr><tr><td>P05</td><td>S002</td><td>1</td><td>0</td><td>0</td><td>0</td><td>0</td><td>8/3/2025 9:10</td><td>P05</td><td>Arjun</td><td>UK</td></tr><tr><td>P05</td><td>S002</td><td>0</td><td>0</td><td>0</td><td>1</td><td>0</td><td>8/3/2025 9:40</td><td>P05</td><td>Arjun</td><td>UK</td></tr><tr><td>P05</td><td>S002</td><td>0</td><td>1</td><td>0</td><td>0</td><td>0</td><td>8/3/2025 10:05</td><td>P05</td><td>Arjun</td><td>UK</td></tr><tr><td>P12</td><td>S003</td><td>1</td><td>0</td><td>0</td><td>0</td><td>0</td><td>8/4/2025 15:00</td><td>P12</td><td>Neha</td><td>Germany</td></tr><tr><td>P12</td><td>S003</td><td>0</td><td>0</td><td>1</td><td>0</td><td>220</td><td>8/4/2025 15:35</td><td>P12</td><td>Neha</td><td>Germany</td></tr><tr><td>P12</td><td>S003</td><td>0</td><td>1</td><td>0</td><td>0</td><td>0</td><td>8/4/2025 16:10</td><td>P12</td><td>Neha</td><td>Germany</td></tr><tr><td>P03</td><td>S004</td><td>1</td><td>0</td><td>0</td><td>0</td><td>0</td><td>8/5/2025 14:00</td><td>P03</td><td>Alok</td><td>UK</td></tr><tr><td>P03</td><td>S004</td><td>0</td><td>0</td><td>0</td><td>1</td><td>0</td><td>8/5/2025 14:20</td><td>P03</td><td>Alok</td><td>UK</td></tr><tr><td>P03</td><td>S004</td><td>0</td><td>1</td><td>0</td><td>0</td><td>0</td><td>8/5/2025 14:55</td><td>P03</td><td>Alok</td><td>UK</td></tr><tr><td>P09</td><td>S005</td><td>1</td><td>0</td><td>0</td><td>0</td><td>0</td><td>8/6/2025 11:30</td><td>P09</td><td>Sneha</td><td>UK</td></tr><tr><td>P09</td><td>S005</td><td>0</td><td>0</td><td>1</td><td>0</td><td>300</td><td>8/6/2025 11:50</td><td>P09</td><td>Sneha</td><td>UK</td></tr><tr><td>P09</td><td>S005</td><td>0</td><td>1</td><td>0</td><td>0</td><td>0</td><td>8/6/2025 12:25</td><td>P09</td><td>Sneha</td><td>UK</td></tr><tr><td>P07</td><td>S006</td><td>1</td><td>0</td><td>0</td><td>0</td><td>0</td><td>8/7/2025 18:05</td><td>P07</td><td>Meena</td><td>India</td></tr><tr><td>P07</td><td>S006</td><td>0</td><td>0</td><td>0</td><td>1</td><td>0</td><td>8/7/2025 18:40</td><td>P07</td><td>Meena</td><td>India</td></tr><tr><td>P07</td><td>S006</td><td>0</td><td>1</td><td>0</td><td>0</td><td>0</td><td>8/7/2025 19:15</td><td>P07</td><td>Meena</td><td>India</td></tr><tr><td>P14</td><td>S007</td><td>1</td><td>0</td><td>0</td><td>0</td><td>0</td><td>8/8/2025 20:10</td><td>P14</td><td>Neha</td><td>Germany</td></tr><tr><td>P14</td><td>S007</td><td>0</td><td>0</td><td>1</td><td>0</td><td>180</td><td>8/8/2025 20:40</td><td>P14</td><td>Neha</td><td>Germany</td></tr><tr><td>P14</td><td>S007</td><td>0</td><td>1</td><td>0</td><td>0</td><td>0</td><td>8/8/2025 21:05</td><td>P14</td><td>Neha</td><td>Germany</td></tr><tr><td>P10</td><td>S008</td><td>1</td><td>0</td><td>0</td><td>0</td><td>0</td><td>8/9/2025 8:20</td><td>P10</td><td>Sunita</td><td>Canada</td></tr><tr><td>P10</td><td>S008</td><td>0</td><td>0</td><td>0</td><td>1</td><td>0</td><td>8/9/2025 8:50</td><td>P10</td><td>Sunita</td><td>Canada</td></tr><tr><td>P10</td><td>S008</td><td>0</td><td>1</td><td>0</td><td>0</td><td>0</td><td>8/9/2025 9:25</td><td>P10</td><td>Sunita</td><td>Canada</td></tr><tr><td>P02</td><td>S009</td><td>1</td><td>0</td><td>0</td><td>0</td><td>0</td><td>8/10/2025 12:00</td><td>P02</td><td>Pooja</td><td>UK</td></tr><tr><td>P02</td><td>S009</td><td>0</td><td>0</td><td>1</td><td>0</td><td>250</td><td>8/10/2025 12:30</td><td>P02</td><td>Pooja</td><td>UK</td></tr><tr><td>P02</td><td>S009</td><td>0</td><td>1</td><td>0</td><td>0</td><td>0</td><td>8/10/2025 13:10</td><td>P02</td><td>Pooja</td><td>UK</td></tr><tr><td>P16</td><td>S010</td><td>1</td><td>0</td><td>0</td><td>0</td><td>0</td><td>8/11/2025 16:45</td><td>P16</td><td>Vikas</td><td>Canada</td></tr><tr><td>P16</td><td>S010</td><td>0</td><td>0</td><td>0</td><td>1</td><td>0</td><td>8/11/2025 17:15</td><td>P16</td><td>Vikas</td><td>Canada</td></tr><tr><td>P16</td><td>S010</td><td>0</td><td>1</td><td>0</td><td>0</td><td>0</td><td>8/11/2025 17:50</td><td>P16</td><td>Vikas</td><td>Canada</td></tr><tr><td>P04</td><td>S011</td><td>1</td><td>0</td><td>0</td><td>0</td><td>0</td><td>9/1/2025 9:30</td><td>P04</td><td>Suresh</td><td>India</td></tr><tr><td>P04</td><td>S011</td><td>0</td><td>0</td><td>1</td><td>0</td><td>100</td><td>9/1/2025 10:00</td><td>P04</td><td>Suresh</td><td>India</td></tr><tr><td>P04</td><td>S011</td><td>0</td><td>1</td><td>0</td><td>0</td><td>0</td><td>9/1/2025 10:45</td><td>P04</td><td>Suresh</td><td>India</td></tr><tr><td>P18</td><td>S012</td><td>1</td><td>0</td><td>0</td><td>0</td><td>0</td><td>9/2/2025 13:00</td><td>P18</td><td>Suresh</td><td>Germany</td></tr><tr><td>P18</td><td>S012</td><td>0</td><td>0</td><td>0</td><td>1</td><td>0</td><td>9/2/2025 13:25</td><td>P18</td><td>Suresh</td><td>Germany</td></tr><tr><td>P18</td><td>S012</td><td>0</td><td>1</td><td>0</td><td>0</td><td>0</td><td>9/2/2025 13:55</td><td>P18</td><td>Suresh</td><td>Germany</td></tr><tr><td>P08</td><td>S013</td><td>1</td><td>0</td><td>0</td><td>0</td><td>0</td><td>9/3/2025 11:10</td><td>P08</td><td>Alok</td><td>India</td></tr><tr><td>P08</td><td>S013</td><td>0</td><td>0</td><td>1</td><td>0</td><td>175</td><td>9/3/2025 11:35</td><td>P08</td><td>Alok</td><td>India</td></tr><tr><td>P08</td><td>S013</td><td>0</td><td>1</td><td>0</td><td>0</td><td>0</td><td>9/3/2025 12:05</td><td>P08</td><td>Alok</td><td>India</td></tr><tr><td>P11</td><td>S014</td><td>1</td><td>0</td><td>0</td><td>0</td><td>0</td><td>9/4/2025 15:15</td><td>P11</td><td>Meena</td><td>India</td></tr><tr><td>P11</td><td>S014</td><td>0</td><td>0</td><td>0</td><td>1</td><td>0</td><td>9/4/2025 15:40</td><td>P11</td><td>Meena</td><td>India</td></tr><tr><td>P11</td><td>S014</td><td>0</td><td>1</td><td>0</td><td>0</td><td>0</td><td>9/4/2025 16:05</td><td>P11</td><td>Meena</td><td>India</td></tr><tr><td>P15</td><td>S015</td><td>1</td><td>0</td><td>0</td><td>0</td><td>0</td><td>9/5/2025 17:25</td><td>P15</td><td>Amit</td><td>India</td></tr><tr><td>P15</td><td>S015</td><td>0</td><td>0</td><td>1</td><td>0</td><td>90</td><td>9/5/2025 17:50</td><td>P15</td><td>Amit</td><td>India</td></tr><tr><td>P15</td><td>S015</td><td>0</td><td>1</td><td>0</td><td>0</td><td>0</td><td>9/5/2025 18:15</td><td>P15</td><td>Amit</td><td>India</td></tr><tr><td>P06</td><td>S016</td><td>1</td><td>0</td><td>0</td><td>0</td><td>0</td><td>9/6/2025 18:40</td><td>P06</td><td>Pooja</td><td>Germany</td></tr><tr><td>P06</td><td>S016</td><td>0</td><td>0</td><td>0</td><td>1</td><td>0</td><td>9/6/2025 19:10</td><td>P06</td><td>Pooja</td><td>Germany</td></tr><tr><td>P06</td><td>S016</td><td>0</td><td>1</td><td>0</td><td>0</td><td>0</td><td>9/6/2025 19:45</td><td>P06</td><td>Pooja</td><td>Germany</td></tr><tr><td>P13</td><td>S017</td><td>1</td><td>0</td><td>0</td><td>0</td><td>0</td><td>9/7/2025 20:10</td><td>P13</td><td>Neha</td><td>India</td></tr><tr><td>P13</td><td>S017</td><td>0</td><td>0</td><td>1</td><td>0</td><td>300</td><td>9/7/2025 20:35</td><td>P13</td><td>Neha</td><td>India</td></tr><tr><td>P13</td><td>S017</td><td>0</td><td>1</td><td>0</td><td>0</td><td>0</td><td>9/7/2025 21:00</td><td>P13</td><td>Neha</td><td>India</td></tr><tr><td>P17</td><td>S018</td><td>1</td><td>0</td><td>0</td><td>0</td><td>0</td><td>9/8/2025 9:00</td><td>P17</td><td>Deepak</td><td>USA</td></tr><tr><td>P17</td><td>S018</td><td>0</td><td>0</td><td>0</td><td>1</td><td>0</td><td>9/8/2025 9:25</td><td>P17</td><td>Deepak</td><td>USA</td></tr><tr><td>P17</td><td>S018</td><td>0</td><td>1</td><td>0</td><td>0</td><td>0</td><td>9/8/2025 9:55</td><td>P17</td><td>Deepak</td><td>USA</td></tr><tr><td>P19</td><td>S019</td><td>1</td><td>0</td><td>0</td><td>0</td><td>0</td><td>9/9/2025 14:00</td><td>P19</td><td>Ravi</td><td>USA</td></tr><tr><td>P19</td><td>S019</td><td>0</td><td>0</td><td>1</td><td>0</td><td>400</td><td>9/9/2025 14:30</td><td>P19</td><td>Ravi</td><td>USA</td></tr><tr><td>P19</td><td>S019</td><td>0</td><td>1</td><td>0</td><td>0</td><td>0</td><td>9/9/2025 15:00</td><td>P19</td><td>Ravi</td><td>USA</td></tr><tr><td>P20</td><td>S020</td><td>1</td><td>0</td><td>0</td><td>0</td><td>0</td><td>9/10/2025 10:00</td><td>P20</td><td>Pooja</td><td>Canada</td></tr><tr><td>P20</td><td>S020</td><td>0</td><td>0</td><td>0</td><td>1</td><td>0</td><td>9/10/2025 10:30</td><td>P20</td><td>Pooja</td><td>Canada</td></tr><tr><td>P20</td><td>S020</td><td>0</td><td>1</td><td>0</td><td>0</td><td>0</td><td>9/10/2025 11:00</td><td>P20</td><td>Pooja</td><td>Canada</td></tr></tbody></table></div>"
      ]
     },
     "metadata": {
      "application/vnd.databricks.v1+output": {
       "addedWidgets": {},
       "aggData": [],
       "aggError": "",
       "aggOverflow": false,
       "aggSchema": [],
       "aggSeriesLimitReached": false,
       "aggType": "",
       "arguments": {},
       "columnCustomDisplayInfos": {},
       "data": [
        [
         "P01",
         "S001",
         1,
         0,
         0,
         0,
         0,
         "8/2/2025 10:00",
         "P01",
         "Rajesh",
         "Canada"
        ],
        [
         "P01",
         "S001",
         0,
         0,
         1,
         0,
         150,
         "8/2/2025 10:25",
         "P01",
         "Rajesh",
         "Canada"
        ],
        [
         "P01",
         "S001",
         0,
         1,
         0,
         0,
         0,
         "8/2/2025 11:00",
         "P01",
         "Rajesh",
         "Canada"
        ],
        [
         "P05",
         "S002",
         1,
         0,
         0,
         0,
         0,
         "8/3/2025 9:10",
         "P05",
         "Arjun",
         "UK"
        ],
        [
         "P05",
         "S002",
         0,
         0,
         0,
         1,
         0,
         "8/3/2025 9:40",
         "P05",
         "Arjun",
         "UK"
        ],
        [
         "P05",
         "S002",
         0,
         1,
         0,
         0,
         0,
         "8/3/2025 10:05",
         "P05",
         "Arjun",
         "UK"
        ],
        [
         "P12",
         "S003",
         1,
         0,
         0,
         0,
         0,
         "8/4/2025 15:00",
         "P12",
         "Neha",
         "Germany"
        ],
        [
         "P12",
         "S003",
         0,
         0,
         1,
         0,
         220,
         "8/4/2025 15:35",
         "P12",
         "Neha",
         "Germany"
        ],
        [
         "P12",
         "S003",
         0,
         1,
         0,
         0,
         0,
         "8/4/2025 16:10",
         "P12",
         "Neha",
         "Germany"
        ],
        [
         "P03",
         "S004",
         1,
         0,
         0,
         0,
         0,
         "8/5/2025 14:00",
         "P03",
         "Alok",
         "UK"
        ],
        [
         "P03",
         "S004",
         0,
         0,
         0,
         1,
         0,
         "8/5/2025 14:20",
         "P03",
         "Alok",
         "UK"
        ],
        [
         "P03",
         "S004",
         0,
         1,
         0,
         0,
         0,
         "8/5/2025 14:55",
         "P03",
         "Alok",
         "UK"
        ],
        [
         "P09",
         "S005",
         1,
         0,
         0,
         0,
         0,
         "8/6/2025 11:30",
         "P09",
         "Sneha",
         "UK"
        ],
        [
         "P09",
         "S005",
         0,
         0,
         1,
         0,
         300,
         "8/6/2025 11:50",
         "P09",
         "Sneha",
         "UK"
        ],
        [
         "P09",
         "S005",
         0,
         1,
         0,
         0,
         0,
         "8/6/2025 12:25",
         "P09",
         "Sneha",
         "UK"
        ],
        [
         "P07",
         "S006",
         1,
         0,
         0,
         0,
         0,
         "8/7/2025 18:05",
         "P07",
         "Meena",
         "India"
        ],
        [
         "P07",
         "S006",
         0,
         0,
         0,
         1,
         0,
         "8/7/2025 18:40",
         "P07",
         "Meena",
         "India"
        ],
        [
         "P07",
         "S006",
         0,
         1,
         0,
         0,
         0,
         "8/7/2025 19:15",
         "P07",
         "Meena",
         "India"
        ],
        [
         "P14",
         "S007",
         1,
         0,
         0,
         0,
         0,
         "8/8/2025 20:10",
         "P14",
         "Neha",
         "Germany"
        ],
        [
         "P14",
         "S007",
         0,
         0,
         1,
         0,
         180,
         "8/8/2025 20:40",
         "P14",
         "Neha",
         "Germany"
        ],
        [
         "P14",
         "S007",
         0,
         1,
         0,
         0,
         0,
         "8/8/2025 21:05",
         "P14",
         "Neha",
         "Germany"
        ],
        [
         "P10",
         "S008",
         1,
         0,
         0,
         0,
         0,
         "8/9/2025 8:20",
         "P10",
         "Sunita",
         "Canada"
        ],
        [
         "P10",
         "S008",
         0,
         0,
         0,
         1,
         0,
         "8/9/2025 8:50",
         "P10",
         "Sunita",
         "Canada"
        ],
        [
         "P10",
         "S008",
         0,
         1,
         0,
         0,
         0,
         "8/9/2025 9:25",
         "P10",
         "Sunita",
         "Canada"
        ],
        [
         "P02",
         "S009",
         1,
         0,
         0,
         0,
         0,
         "8/10/2025 12:00",
         "P02",
         "Pooja",
         "UK"
        ],
        [
         "P02",
         "S009",
         0,
         0,
         1,
         0,
         250,
         "8/10/2025 12:30",
         "P02",
         "Pooja",
         "UK"
        ],
        [
         "P02",
         "S009",
         0,
         1,
         0,
         0,
         0,
         "8/10/2025 13:10",
         "P02",
         "Pooja",
         "UK"
        ],
        [
         "P16",
         "S010",
         1,
         0,
         0,
         0,
         0,
         "8/11/2025 16:45",
         "P16",
         "Vikas",
         "Canada"
        ],
        [
         "P16",
         "S010",
         0,
         0,
         0,
         1,
         0,
         "8/11/2025 17:15",
         "P16",
         "Vikas",
         "Canada"
        ],
        [
         "P16",
         "S010",
         0,
         1,
         0,
         0,
         0,
         "8/11/2025 17:50",
         "P16",
         "Vikas",
         "Canada"
        ],
        [
         "P04",
         "S011",
         1,
         0,
         0,
         0,
         0,
         "9/1/2025 9:30",
         "P04",
         "Suresh",
         "India"
        ],
        [
         "P04",
         "S011",
         0,
         0,
         1,
         0,
         100,
         "9/1/2025 10:00",
         "P04",
         "Suresh",
         "India"
        ],
        [
         "P04",
         "S011",
         0,
         1,
         0,
         0,
         0,
         "9/1/2025 10:45",
         "P04",
         "Suresh",
         "India"
        ],
        [
         "P18",
         "S012",
         1,
         0,
         0,
         0,
         0,
         "9/2/2025 13:00",
         "P18",
         "Suresh",
         "Germany"
        ],
        [
         "P18",
         "S012",
         0,
         0,
         0,
         1,
         0,
         "9/2/2025 13:25",
         "P18",
         "Suresh",
         "Germany"
        ],
        [
         "P18",
         "S012",
         0,
         1,
         0,
         0,
         0,
         "9/2/2025 13:55",
         "P18",
         "Suresh",
         "Germany"
        ],
        [
         "P08",
         "S013",
         1,
         0,
         0,
         0,
         0,
         "9/3/2025 11:10",
         "P08",
         "Alok",
         "India"
        ],
        [
         "P08",
         "S013",
         0,
         0,
         1,
         0,
         175,
         "9/3/2025 11:35",
         "P08",
         "Alok",
         "India"
        ],
        [
         "P08",
         "S013",
         0,
         1,
         0,
         0,
         0,
         "9/3/2025 12:05",
         "P08",
         "Alok",
         "India"
        ],
        [
         "P11",
         "S014",
         1,
         0,
         0,
         0,
         0,
         "9/4/2025 15:15",
         "P11",
         "Meena",
         "India"
        ],
        [
         "P11",
         "S014",
         0,
         0,
         0,
         1,
         0,
         "9/4/2025 15:40",
         "P11",
         "Meena",
         "India"
        ],
        [
         "P11",
         "S014",
         0,
         1,
         0,
         0,
         0,
         "9/4/2025 16:05",
         "P11",
         "Meena",
         "India"
        ],
        [
         "P15",
         "S015",
         1,
         0,
         0,
         0,
         0,
         "9/5/2025 17:25",
         "P15",
         "Amit",
         "India"
        ],
        [
         "P15",
         "S015",
         0,
         0,
         1,
         0,
         90,
         "9/5/2025 17:50",
         "P15",
         "Amit",
         "India"
        ],
        [
         "P15",
         "S015",
         0,
         1,
         0,
         0,
         0,
         "9/5/2025 18:15",
         "P15",
         "Amit",
         "India"
        ],
        [
         "P06",
         "S016",
         1,
         0,
         0,
         0,
         0,
         "9/6/2025 18:40",
         "P06",
         "Pooja",
         "Germany"
        ],
        [
         "P06",
         "S016",
         0,
         0,
         0,
         1,
         0,
         "9/6/2025 19:10",
         "P06",
         "Pooja",
         "Germany"
        ],
        [
         "P06",
         "S016",
         0,
         1,
         0,
         0,
         0,
         "9/6/2025 19:45",
         "P06",
         "Pooja",
         "Germany"
        ],
        [
         "P13",
         "S017",
         1,
         0,
         0,
         0,
         0,
         "9/7/2025 20:10",
         "P13",
         "Neha",
         "India"
        ],
        [
         "P13",
         "S017",
         0,
         0,
         1,
         0,
         300,
         "9/7/2025 20:35",
         "P13",
         "Neha",
         "India"
        ],
        [
         "P13",
         "S017",
         0,
         1,
         0,
         0,
         0,
         "9/7/2025 21:00",
         "P13",
         "Neha",
         "India"
        ],
        [
         "P17",
         "S018",
         1,
         0,
         0,
         0,
         0,
         "9/8/2025 9:00",
         "P17",
         "Deepak",
         "USA"
        ],
        [
         "P17",
         "S018",
         0,
         0,
         0,
         1,
         0,
         "9/8/2025 9:25",
         "P17",
         "Deepak",
         "USA"
        ],
        [
         "P17",
         "S018",
         0,
         1,
         0,
         0,
         0,
         "9/8/2025 9:55",
         "P17",
         "Deepak",
         "USA"
        ],
        [
         "P19",
         "S019",
         1,
         0,
         0,
         0,
         0,
         "9/9/2025 14:00",
         "P19",
         "Ravi",
         "USA"
        ],
        [
         "P19",
         "S019",
         0,
         0,
         1,
         0,
         400,
         "9/9/2025 14:30",
         "P19",
         "Ravi",
         "USA"
        ],
        [
         "P19",
         "S019",
         0,
         1,
         0,
         0,
         0,
         "9/9/2025 15:00",
         "P19",
         "Ravi",
         "USA"
        ],
        [
         "P20",
         "S020",
         1,
         0,
         0,
         0,
         0,
         "9/10/2025 10:00",
         "P20",
         "Pooja",
         "Canada"
        ],
        [
         "P20",
         "S020",
         0,
         0,
         0,
         1,
         0,
         "9/10/2025 10:30",
         "P20",
         "Pooja",
         "Canada"
        ],
        [
         "P20",
         "S020",
         0,
         1,
         0,
         0,
         0,
         "9/10/2025 11:00",
         "P20",
         "Pooja",
         "Canada"
        ]
       ],
       "datasetInfos": [],
       "dbfsResultPath": null,
       "isJsonSchema": true,
       "metadata": {},
       "overflow": false,
       "plotOptions": {
        "customPlotOptions": {},
        "displayType": "table",
        "pivotAggregation": null,
        "pivotColumns": null,
        "xColumns": null,
        "yColumns": null
       },
       "removedWidgets": [],
       "schema": [
        {
         "metadata": "{}",
         "name": "player_id",
         "type": "\"string\""
        },
        {
         "metadata": "{}",
         "name": "session_id",
         "type": "\"string\""
        },
        {
         "metadata": "{}",
         "name": "login",
         "type": "\"long\""
        },
        {
         "metadata": "{}",
         "name": "logout",
         "type": "\"long\""
        },
        {
         "metadata": "{}",
         "name": "purchase",
         "type": "\"long\""
        },
        {
         "metadata": "{}",
         "name": "play",
         "type": "\"long\""
        },
        {
         "metadata": "{}",
         "name": "amount_spent",
         "type": "\"long\""
        },
        {
         "metadata": "{}",
         "name": "timestamp",
         "type": "\"string\""
        },
        {
         "metadata": "{}",
         "name": "player_id",
         "type": "\"string\""
        },
        {
         "metadata": "{}",
         "name": "player_name",
         "type": "\"string\""
        },
        {
         "metadata": "{}",
         "name": "country",
         "type": "\"string\""
        }
       ],
       "type": "table"
      }
     },
     "output_type": "display_data"
    }
   ],
   "source": [
    "\n",
    "df1 = spark.table(\"players_dataset_1\")\n",
    "df2 = spark.table(\"session\")\n",
    "\n",
    "# Perform INNER JOIN on hotel_id\n",
    "joined_df = df2.join(\n",
    "    df1,\n",
    "    df2[\"player_id\"] ==df1[\"player_id\"],\n",
    "    \"inner\"\n",
    ")\n",
    "\n",
    "display(joined_df)"
   ]
  },
  {
   "cell_type": "code",
   "execution_count": 0,
   "metadata": {
    "application/vnd.databricks.v1+cell": {
     "cellMetadata": {
      "byteLimit": 2048000,
      "rowLimit": 10000
     },
     "inputWidgets": {},
     "nuid": "1473415d-1ee0-44ee-80d7-a5f46fb0f11a",
     "showTitle": true,
     "tableResultSettingsMap": {},
     "title": "pyspark- total in game purchases"
    }
   },
   "outputs": [
    {
     "output_type": "display_data",
     "data": {
      "text/html": [
       "<style scoped>\n",
       "  .table-result-container {\n",
       "    max-height: 300px;\n",
       "    overflow: auto;\n",
       "  }\n",
       "  table, th, td {\n",
       "    border: 1px solid black;\n",
       "    border-collapse: collapse;\n",
       "  }\n",
       "  th, td {\n",
       "    padding: 5px;\n",
       "  }\n",
       "  th {\n",
       "    text-align: left;\n",
       "  }\n",
       "</style><div class='table-result-container'><table class='table-result'><thead style='background-color: white'><tr><th>player_id</th><th>player_name</th><th>country</th><th>total_purchases</th></tr></thead><tbody><tr><td>P15</td><td>Amit</td><td>India</td><td>1</td></tr><tr><td>P12</td><td>Neha</td><td>Germany</td><td>1</td></tr><tr><td>P19</td><td>Ravi</td><td>USA</td><td>1</td></tr><tr><td>P04</td><td>Suresh</td><td>India</td><td>1</td></tr><tr><td>P08</td><td>Alok</td><td>India</td><td>1</td></tr><tr><td>P14</td><td>Neha</td><td>Germany</td><td>1</td></tr><tr><td>P01</td><td>Rajesh</td><td>Canada</td><td>1</td></tr><tr><td>P13</td><td>Neha</td><td>India</td><td>1</td></tr><tr><td>P02</td><td>Pooja</td><td>UK</td><td>1</td></tr><tr><td>P09</td><td>Sneha</td><td>UK</td><td>1</td></tr><tr><td>P16</td><td>Vikas</td><td>Canada</td><td>0</td></tr><tr><td>P20</td><td>Pooja</td><td>Canada</td><td>0</td></tr><tr><td>P10</td><td>Sunita</td><td>Canada</td><td>0</td></tr><tr><td>P05</td><td>Arjun</td><td>UK</td><td>0</td></tr><tr><td>P18</td><td>Suresh</td><td>Germany</td><td>0</td></tr><tr><td>P11</td><td>Meena</td><td>India</td><td>0</td></tr><tr><td>P03</td><td>Alok</td><td>UK</td><td>0</td></tr><tr><td>P06</td><td>Pooja</td><td>Germany</td><td>0</td></tr><tr><td>P17</td><td>Deepak</td><td>USA</td><td>0</td></tr><tr><td>P07</td><td>Meena</td><td>India</td><td>0</td></tr></tbody></table></div>"
      ]
     },
     "metadata": {
      "application/vnd.databricks.v1+output": {
       "addedWidgets": {},
       "aggData": [],
       "aggError": "",
       "aggOverflow": false,
       "aggSchema": [],
       "aggSeriesLimitReached": false,
       "aggType": "",
       "arguments": {},
       "columnCustomDisplayInfos": {},
       "data": [
        [
         "P15",
         "Amit",
         "India",
         1
        ],
        [
         "P12",
         "Neha",
         "Germany",
         1
        ],
        [
         "P19",
         "Ravi",
         "USA",
         1
        ],
        [
         "P04",
         "Suresh",
         "India",
         1
        ],
        [
         "P08",
         "Alok",
         "India",
         1
        ],
        [
         "P14",
         "Neha",
         "Germany",
         1
        ],
        [
         "P01",
         "Rajesh",
         "Canada",
         1
        ],
        [
         "P13",
         "Neha",
         "India",
         1
        ],
        [
         "P02",
         "Pooja",
         "UK",
         1
        ],
        [
         "P09",
         "Sneha",
         "UK",
         1
        ],
        [
         "P16",
         "Vikas",
         "Canada",
         0
        ],
        [
         "P20",
         "Pooja",
         "Canada",
         0
        ],
        [
         "P10",
         "Sunita",
         "Canada",
         0
        ],
        [
         "P05",
         "Arjun",
         "UK",
         0
        ],
        [
         "P18",
         "Suresh",
         "Germany",
         0
        ],
        [
         "P11",
         "Meena",
         "India",
         0
        ],
        [
         "P03",
         "Alok",
         "UK",
         0
        ],
        [
         "P06",
         "Pooja",
         "Germany",
         0
        ],
        [
         "P17",
         "Deepak",
         "USA",
         0
        ],
        [
         "P07",
         "Meena",
         "India",
         0
        ]
       ],
       "datasetInfos": [],
       "dbfsResultPath": null,
       "isJsonSchema": true,
       "metadata": {},
       "overflow": false,
       "plotOptions": {
        "customPlotOptions": {},
        "displayType": "table",
        "pivotAggregation": null,
        "pivotColumns": null,
        "xColumns": null,
        "yColumns": null
       },
       "removedWidgets": [],
       "schema": [
        {
         "metadata": "{}",
         "name": "player_id",
         "type": "\"string\""
        },
        {
         "metadata": "{}",
         "name": "player_name",
         "type": "\"string\""
        },
        {
         "metadata": "{}",
         "name": "country",
         "type": "\"string\""
        },
        {
         "metadata": "{}",
         "name": "total_purchases",
         "type": "\"long\""
        }
       ],
       "type": "table"
      }
     },
     "output_type": "display_data"
    },
    {
     "output_type": "display_data",
     "data": {
      "text/plain": [
       "Databricks visualization. Run in Databricks to view."
      ]
     },
     "metadata": {
      "application/vnd.databricks.v1.subcommand+json": {
       "baseErrorDetails": null,
       "bindings": {},
       "collapsed": false,
       "command": "%python\n__backend_agg_display_orig = display\n__backend_agg_dfs = []\ndef __backend_agg_display_new(df):\n    __backend_agg_df_modules = [\"pandas.core.frame\", \"databricks.koalas.frame\", \"pyspark.sql.dataframe\", \"pyspark.pandas.frame\", \"pyspark.sql.connect.dataframe\"]\n    if (type(df).__module__ in __backend_agg_df_modules and type(df).__name__ == 'DataFrame') or isinstance(df, list):\n        __backend_agg_dfs.append(df)\n\ndisplay = __backend_agg_display_new\n\ndef __backend_agg_user_code_fn():\n    import base64\n    exec(base64.standard_b64decode(\"ZnJvbSBweXNwYXJrLnNxbCBpbXBvcnQgZnVuY3Rpb25zIGFzIEYKCiMgQ2FsY3VsYXRlIHRvdGFsIHB1cmNoYXNlcyBwZXIgcGxheWVyCnRvdGFsX3B1cmNoYXNlc19kZiA9IGpvaW5lZF9kZi5zZWxlY3QoJ3Nlc3Npb24ucGxheWVyX2lkJywncGxheWVyX25hbWUnLCAnY291bnRyeScsICdwdXJjaGFzZScpLmdyb3VwQnkoJ3Nlc3Npb24ucGxheWVyX2lkJywKICAgICJwbGF5ZXJfbmFtZSIsICJjb3VudHJ5IgopLmFnZygKICAgIEYuc3VtKCJwdXJjaGFzZSIpLmFsaWFzKCJ0b3RhbF9wdXJjaGFzZXMiKQoKKS5vcmRlckJ5KEYuZGVzYygidG90YWxfcHVyY2hhc2VzIikpCgpkaXNwbGF5KHRvdGFsX3B1cmNoYXNlc19kZikK\").decode())\n\ntry:\n    # run user code\n    __backend_agg_user_code_fn()\n\n    #reset display function\n    display = __backend_agg_display_orig\n\n    if len(__backend_agg_dfs) > 0:\n        # create a temp view\n        if type(__backend_agg_dfs[0]).__module__ == \"databricks.koalas.frame\":\n            # koalas dataframe\n            __backend_agg_dfs[0].to_spark().createOrReplaceTempView(\"DatabricksView9d2782f\")\n        elif type(__backend_agg_dfs[0]).__module__ == \"pandas.core.frame\" or isinstance(__backend_agg_dfs[0], list):\n            # pandas dataframe\n            spark.createDataFrame(__backend_agg_dfs[0]).createOrReplaceTempView(\"DatabricksView9d2782f\")\n        else:\n            __backend_agg_dfs[0].createOrReplaceTempView(\"DatabricksView9d2782f\")\n        #run backend agg\n        display(spark.sql(\"\"\"WITH q AS (select * from DatabricksView9d2782f) SELECT `player_id`,`total_purchases`,`player_name` FROM q\"\"\"))\n    else:\n        displayHTML(\"dataframe no longer exists. If you're using dataframe.display(), use display(dataframe) instead.\")\n\n\nfinally:\n    spark.sql(\"drop view if exists DatabricksView9d2782f\")\n    display = __backend_agg_display_orig\n    del __backend_agg_display_new\n    del __backend_agg_display_orig\n    del __backend_agg_dfs\n    del __backend_agg_user_code_fn\n\n",
       "commandTitle": "Visualization 1",
       "commandType": "auto",
       "commandVersion": 0,
       "commentThread": [],
       "commentsVisible": false,
       "contentSha256Hex": null,
       "customPlotOptions": {
        "redashChart": [
         {
          "key": "type",
          "value": "CHART"
         },
         {
          "key": "options",
          "value": {
           "alignYAxesAtZero": true,
           "coefficient": 1,
           "columnConfigurationMap": {
            "series": {
             "column": "player_name",
             "id": "column_63daa608115"
            },
            "x": {
             "column": "player_id",
             "id": "column_63daa608109"
            },
            "y": [
             {
              "column": "total_purchases",
              "id": "column_63daa608111"
             }
            ]
           },
           "dateTimeFormat": "DD/MM/YYYY HH:mm",
           "direction": {
            "type": "counterclockwise"
           },
           "error_y": {
            "type": "data",
            "visible": true
           },
           "globalSeriesType": "scatter",
           "legend": {
            "traceorder": "normal"
           },
           "missingValuesAsZero": true,
           "numberFormat": "0,0.[00000]",
           "percentFormat": "0[.]00%",
           "series": {
            "error_y": {
             "type": "data",
             "visible": true
            },
            "stacking": null
           },
           "seriesOptions": {
            "column_63daa608111": {
             "type": "scatter",
             "yAxis": 0
            },
            "total_purchases": {
             "type": "scatter",
             "yAxis": 0
            }
           },
           "showDataLabels": false,
           "sizemode": "diameter",
           "sortX": true,
           "sortY": true,
           "swappedAxes": false,
           "textFormat": "",
           "useAggregationsUi": true,
           "valuesOptions": {},
           "version": 2,
           "xAxis": {
            "labels": {
             "enabled": true
            },
            "type": "-"
           },
           "yAxis": [
            {
             "type": "-"
            },
            {
             "opposite": true,
             "type": "-"
            }
           ]
          }
         }
        ]
       },
       "datasetPreviewNameToCmdIdMap": {},
       "diffDeletes": [],
       "diffInserts": [],
       "displayType": "redashChart",
       "error": null,
       "errorDetails": null,
       "errorSummary": null,
       "errorTraceType": null,
       "finishTime": 0,
       "globalVars": {},
       "guid": "",
       "height": "auto",
       "hideCommandCode": false,
       "hideCommandResult": false,
       "iPythonMetadata": null,
       "inputWidgets": {},
       "isLockedInExamMode": false,
       "latestUser": "a user",
       "latestUserId": null,
       "listResultMetadata": null,
       "metadata": {},
       "nuid": "f9ca9464-7fb5-49ac-ac2a-7e372c374763",
       "origId": 0,
       "parentHierarchy": [],
       "pivotAggregation": null,
       "pivotColumns": null,
       "position": 6.0,
       "resultDbfsErrorMessage": null,
       "resultDbfsStatus": "INLINED_IN_TREE",
       "results": null,
       "showCommandTitle": false,
       "startTime": 0,
       "state": "input",
       "streamStates": {},
       "subcommandOptions": {
        "queryPlan": {
         "selects": [
          {
           "column": "player_id",
           "type": "column"
          },
          {
           "column": "total_purchases",
           "type": "column"
          },
          {
           "column": "player_name",
           "type": "column"
          }
         ]
        }
       },
       "submitTime": 0,
       "subtype": "tableResultSubCmd.visualization",
       "tableResultIndex": 0,
       "tableResultSettingsMap": {},
       "useConsistentColors": false,
       "version": "CommandV1",
       "width": "auto",
       "workflows": [],
       "xColumns": null,
       "yColumns": null
      }
     },
     "output_type": "display_data"
    }
   ],
   "source": [
    "from pyspark.sql import functions as F\n",
    "\n",
    "# Calculate total purchases per player\n",
    "total_purchases_df = joined_df.select('session.player_id','player_name', 'country', 'purchase').groupBy('session.player_id',\n",
    "    \"player_name\", \"country\"\n",
    ").agg(\n",
    "    F.sum(\"purchase\").alias(\"total_purchases\")\n",
    "\n",
    ").orderBy(F.desc(\"total_purchases\"))\n",
    "\n",
    "display(total_purchases_df)\n"
   ]
  },
  {
   "cell_type": "code",
   "execution_count": 0,
   "metadata": {
    "application/vnd.databricks.v1+cell": {
     "cellMetadata": {
      "byteLimit": 2048000,
      "rowLimit": 10000
     },
     "inputWidgets": {},
     "nuid": "c7c8e9a5-3fe5-475b-badc-1cd895e19a83",
     "showTitle": true,
     "tableResultSettingsMap": {},
     "title": "max session length per player"
    }
   },
   "outputs": [
    {
     "output_type": "display_data",
     "data": {
      "text/html": [
       "<style scoped>\n",
       "  .table-result-container {\n",
       "    max-height: 300px;\n",
       "    overflow: auto;\n",
       "  }\n",
       "  table, th, td {\n",
       "    border: 1px solid black;\n",
       "    border-collapse: collapse;\n",
       "  }\n",
       "  th, td {\n",
       "    padding: 5px;\n",
       "  }\n",
       "  th {\n",
       "    text-align: left;\n",
       "  }\n",
       "</style><div class='table-result-container'><table class='table-result'><thead style='background-color: white'><tr><th>player_id</th><th>max_session_length_min</th><th>player_name</th><th>country</th></tr></thead><tbody><tr><td>P01</td><td>60.0</td><td>Rajesh</td><td>Canada</td></tr><tr><td>P02</td><td>70.0</td><td>Pooja</td><td>UK</td></tr><tr><td>P03</td><td>55.0</td><td>Alok</td><td>UK</td></tr><tr><td>P04</td><td>75.0</td><td>Suresh</td><td>India</td></tr><tr><td>P05</td><td>55.0</td><td>Arjun</td><td>UK</td></tr><tr><td>P06</td><td>65.0</td><td>Pooja</td><td>Germany</td></tr><tr><td>P07</td><td>70.0</td><td>Meena</td><td>India</td></tr><tr><td>P08</td><td>55.0</td><td>Alok</td><td>India</td></tr><tr><td>P09</td><td>55.0</td><td>Sneha</td><td>UK</td></tr><tr><td>P10</td><td>65.0</td><td>Sunita</td><td>Canada</td></tr><tr><td>P11</td><td>50.0</td><td>Meena</td><td>India</td></tr><tr><td>P12</td><td>70.0</td><td>Neha</td><td>Germany</td></tr><tr><td>P13</td><td>50.0</td><td>Neha</td><td>India</td></tr><tr><td>P14</td><td>55.0</td><td>Neha</td><td>Germany</td></tr><tr><td>P15</td><td>50.0</td><td>Amit</td><td>India</td></tr><tr><td>P16</td><td>65.0</td><td>Vikas</td><td>Canada</td></tr><tr><td>P17</td><td>55.0</td><td>Deepak</td><td>USA</td></tr><tr><td>P18</td><td>55.0</td><td>Suresh</td><td>Germany</td></tr><tr><td>P19</td><td>60.0</td><td>Ravi</td><td>USA</td></tr><tr><td>P20</td><td>60.0</td><td>Pooja</td><td>Canada</td></tr></tbody></table></div>"
      ]
     },
     "metadata": {
      "application/vnd.databricks.v1+output": {
       "addedWidgets": {},
       "aggData": [],
       "aggError": "",
       "aggOverflow": false,
       "aggSchema": [],
       "aggSeriesLimitReached": false,
       "aggType": "",
       "arguments": {},
       "columnCustomDisplayInfos": {},
       "data": [
        [
         "P01",
         60.0,
         "Rajesh",
         "Canada"
        ],
        [
         "P02",
         70.0,
         "Pooja",
         "UK"
        ],
        [
         "P03",
         55.0,
         "Alok",
         "UK"
        ],
        [
         "P04",
         75.0,
         "Suresh",
         "India"
        ],
        [
         "P05",
         55.0,
         "Arjun",
         "UK"
        ],
        [
         "P06",
         65.0,
         "Pooja",
         "Germany"
        ],
        [
         "P07",
         70.0,
         "Meena",
         "India"
        ],
        [
         "P08",
         55.0,
         "Alok",
         "India"
        ],
        [
         "P09",
         55.0,
         "Sneha",
         "UK"
        ],
        [
         "P10",
         65.0,
         "Sunita",
         "Canada"
        ],
        [
         "P11",
         50.0,
         "Meena",
         "India"
        ],
        [
         "P12",
         70.0,
         "Neha",
         "Germany"
        ],
        [
         "P13",
         50.0,
         "Neha",
         "India"
        ],
        [
         "P14",
         55.0,
         "Neha",
         "Germany"
        ],
        [
         "P15",
         50.0,
         "Amit",
         "India"
        ],
        [
         "P16",
         65.0,
         "Vikas",
         "Canada"
        ],
        [
         "P17",
         55.0,
         "Deepak",
         "USA"
        ],
        [
         "P18",
         55.0,
         "Suresh",
         "Germany"
        ],
        [
         "P19",
         60.0,
         "Ravi",
         "USA"
        ],
        [
         "P20",
         60.0,
         "Pooja",
         "Canada"
        ]
       ],
       "datasetInfos": [],
       "dbfsResultPath": null,
       "isJsonSchema": true,
       "metadata": {},
       "overflow": false,
       "plotOptions": {
        "customPlotOptions": {},
        "displayType": "table",
        "pivotAggregation": null,
        "pivotColumns": null,
        "xColumns": null,
        "yColumns": null
       },
       "removedWidgets": [],
       "schema": [
        {
         "metadata": "{}",
         "name": "player_id",
         "type": "\"string\""
        },
        {
         "metadata": "{}",
         "name": "max_session_length_min",
         "type": "\"double\""
        },
        {
         "metadata": "{}",
         "name": "player_name",
         "type": "\"string\""
        },
        {
         "metadata": "{}",
         "name": "country",
         "type": "\"string\""
        }
       ],
       "type": "table"
      }
     },
     "output_type": "display_data"
    },
    {
     "output_type": "display_data",
     "data": {
      "text/plain": [
       "Databricks visualization. Run in Databricks to view."
      ]
     },
     "metadata": {
      "application/vnd.databricks.v1.subcommand+json": {
       "baseErrorDetails": null,
       "bindings": {},
       "collapsed": false,
       "command": "%python\n__backend_agg_display_orig = display\n__backend_agg_dfs = []\ndef __backend_agg_display_new(df):\n    __backend_agg_df_modules = [\"pandas.core.frame\", \"databricks.koalas.frame\", \"pyspark.sql.dataframe\", \"pyspark.pandas.frame\", \"pyspark.sql.connect.dataframe\"]\n    if (type(df).__module__ in __backend_agg_df_modules and type(df).__name__ == 'DataFrame') or isinstance(df, list):\n        __backend_agg_dfs.append(df)\n\ndisplay = __backend_agg_display_new\n\ndef __backend_agg_user_code_fn():\n    import base64\n    exec(base64.standard_b64decode(\"ZnJvbSBweXNwYXJrLnNxbCBpbXBvcnQgZnVuY3Rpb25zIGFzIEYKCiMgQ29udmVydCB0aW1lc3RhbXAgc3RyaW5nIGludG8gU3BhcmsgdGltZXN0YW1wCmNsZWFuX2RmID0gam9pbmVkX2RmLnNlbGVjdCgKICAgIGRmMVsicGxheWVyX2lkIl0sIGRmMVsicGxheWVyX25hbWUiXSwgZGYxWyJjb3VudHJ5Il0sCiAgICBkZjJbInNlc3Npb25faWQiXSwKICAgIEYudG9fdGltZXN0YW1wKGRmMlsidGltZXN0YW1wIl0sICJNL2QveXl5eSBIOm1tIikuYWxpYXMoInRpbWVzdGFtcCIpCikKCiMgMS4gTWluIGxvZ2luLCBtYXggbG9nb3V0IHBlciBzZXNzaW9uCnNlc3Npb25fdGltZXMgPSBjbGVhbl9kZi5ncm91cEJ5KCJwbGF5ZXJfaWQiLCAic2Vzc2lvbl9pZCIpLmFnZygKICAgIEYubWluKCJ0aW1lc3RhbXAiKS5hbGlhcygibG9naW5fdGltZSIpLAogICAgRi5tYXgoInRpbWVzdGFtcCIpLmFsaWFzKCJsb2dvdXRfdGltZSIpCikKCiMgMi4gU2Vzc2lvbiBsZW5ndGggaW4gbWludXRlcwpzZXNzaW9uX3RpbWVzID0gc2Vzc2lvbl90aW1lcy53aXRoQ29sdW1uKAogICAgInNlc3Npb25fbGVuZ3RoX21pbiIsCiAgICAoRi51bml4X3RpbWVzdGFtcCgibG9nb3V0X3RpbWUiKSAtIEYudW5peF90aW1lc3RhbXAoImxvZ2luX3RpbWUiKSkgLyA2MAopCgojIDMuIE1heCBzZXNzaW9uIGxlbmd0aCBwZXIgcGxheWVyCm1heF9zZXNzaW9uX3Blcl9wbGF5ZXIgPSBzZXNzaW9uX3RpbWVzLmdyb3VwQnkoInBsYXllcl9pZCIpLmFnZygKICAgIEYubWF4KCJzZXNzaW9uX2xlbmd0aF9taW4iKS5hbGlhcygibWF4X3Nlc3Npb25fbGVuZ3RoX21pbiIpCikKCiMgNC4gSm9pbiB3aXRoIHBsYXllciBpbmZvCnJlc3VsdF9kZiA9IG1heF9zZXNzaW9uX3Blcl9wbGF5ZXIuam9pbigKICAgIGRmMS5zZWxlY3QoInBsYXllcl9pZCIsICJwbGF5ZXJfbmFtZSIsICJjb3VudHJ5IiksCiAgICBvbj0icGxheWVyX2lkIiwKICAgIGhvdz0iaW5uZXIiCikKCmRpc3BsYXkocmVzdWx0X2RmKQo=\").decode())\n\ntry:\n    # run user code\n    __backend_agg_user_code_fn()\n\n    #reset display function\n    display = __backend_agg_display_orig\n\n    if len(__backend_agg_dfs) > 0:\n        # create a temp view\n        if type(__backend_agg_dfs[0]).__module__ == \"databricks.koalas.frame\":\n            # koalas dataframe\n            __backend_agg_dfs[0].to_spark().createOrReplaceTempView(\"DatabricksView2f5d29e\")\n        elif type(__backend_agg_dfs[0]).__module__ == \"pandas.core.frame\" or isinstance(__backend_agg_dfs[0], list):\n            # pandas dataframe\n            spark.createDataFrame(__backend_agg_dfs[0]).createOrReplaceTempView(\"DatabricksView2f5d29e\")\n        else:\n            __backend_agg_dfs[0].createOrReplaceTempView(\"DatabricksView2f5d29e\")\n        #run backend agg\n        display(spark.sql(\"\"\"WITH q AS (select * from DatabricksView2f5d29e) SELECT `max_session_length_min`,`player_id` FROM q GROUP BY `max_session_length_min`,`player_id`\"\"\"))\n    else:\n        displayHTML(\"dataframe no longer exists. If you're using dataframe.display(), use display(dataframe) instead.\")\n\n\nfinally:\n    spark.sql(\"drop view if exists DatabricksView2f5d29e\")\n    display = __backend_agg_display_orig\n    del __backend_agg_display_new\n    del __backend_agg_display_orig\n    del __backend_agg_dfs\n    del __backend_agg_user_code_fn\n\n",
       "commandTitle": "Visualization 1",
       "commandType": "auto",
       "commandVersion": 0,
       "commentThread": [],
       "commentsVisible": false,
       "contentSha256Hex": null,
       "customPlotOptions": {
        "redashChart": [
         {
          "key": "type",
          "value": "CHART"
         },
         {
          "key": "options",
          "value": {
           "alignYAxesAtZero": true,
           "coefficient": 1,
           "colorScheme": "Greens",
           "columnConfigurationMap": {
            "x": {
             "column": "max_session_length_min",
             "id": "column_63daa608179"
            },
            "y": [
             {
              "column": "player_id",
              "id": "column_63daa608176"
             }
            ]
           },
           "dateTimeFormat": "DD/MM/YYYY HH:mm",
           "direction": {
            "type": "counterclockwise"
           },
           "error_y": {
            "type": "data",
            "visible": true
           },
           "globalSeriesType": "heatmap",
           "isAggregationOn": true,
           "legend": {
            "traceorder": "normal"
           },
           "missingValuesAsZero": true,
           "numBins": 10,
           "numberFormat": "0,0.[00000]",
           "percentFormat": "0[.]00%",
           "series": {
            "error_y": {
             "type": "data",
             "visible": true
            },
            "stacking": null
           },
           "seriesOptions": {
            "column_63daa608175": {
             "type": "heatmap",
             "yAxis": 0
            },
            "column_63daa608176": {
             "type": "heatmap",
             "yAxis": 0
            },
            "player_id": {
             "type": "heatmap",
             "yAxis": 0
            }
           },
           "showDataLabels": false,
           "sizemode": "diameter",
           "sortX": true,
           "sortY": true,
           "swappedAxes": false,
           "textFormat": "",
           "useAggregationsUi": true,
           "valuesOptions": {},
           "version": 2,
           "xAxis": {
            "labels": {
             "enabled": true
            },
            "type": "-"
           },
           "yAxis": [
            {
             "type": "-"
            },
            {
             "opposite": true,
             "type": "-"
            }
           ]
          }
         }
        ]
       },
       "datasetPreviewNameToCmdIdMap": {},
       "diffDeletes": [],
       "diffInserts": [],
       "displayType": "redashChart",
       "error": null,
       "errorDetails": null,
       "errorSummary": null,
       "errorTraceType": null,
       "finishTime": 0,
       "globalVars": {},
       "guid": "",
       "height": "auto",
       "hideCommandCode": false,
       "hideCommandResult": false,
       "iPythonMetadata": null,
       "inputWidgets": {},
       "isLockedInExamMode": false,
       "latestUser": "a user",
       "latestUserId": null,
       "listResultMetadata": null,
       "metadata": {},
       "nuid": "469a353d-a67c-405a-8258-42cfe67951ef",
       "origId": 0,
       "parentHierarchy": [],
       "pivotAggregation": null,
       "pivotColumns": null,
       "position": 12.0,
       "resultDbfsErrorMessage": null,
       "resultDbfsStatus": "INLINED_IN_TREE",
       "results": null,
       "showCommandTitle": false,
       "startTime": 0,
       "state": "input",
       "streamStates": {},
       "subcommandOptions": {
        "queryPlan": {
         "groups": [
          {
           "column": "max_session_length_min",
           "type": "column"
          },
          {
           "column": "player_id",
           "type": "column"
          }
         ],
         "selects": [
          {
           "column": "max_session_length_min",
           "type": "column"
          },
          {
           "column": "player_id",
           "type": "column"
          }
         ]
        }
       },
       "submitTime": 0,
       "subtype": "tableResultSubCmd.visualization",
       "tableResultIndex": 0,
       "tableResultSettingsMap": {},
       "useConsistentColors": false,
       "version": "CommandV1",
       "width": "auto",
       "workflows": [],
       "xColumns": null,
       "yColumns": null
      }
     },
     "output_type": "display_data"
    }
   ],
   "source": [
    "from pyspark.sql import functions as F\n",
    "\n",
    "# Convert timestamp string into Spark timestamp\n",
    "clean_df = joined_df.select(\n",
    "    df1[\"player_id\"], df1[\"player_name\"], df1[\"country\"],\n",
    "    df2[\"session_id\"],\n",
    "    F.to_timestamp(df2[\"timestamp\"], \"M/d/yyyy H:mm\").alias(\"timestamp\")\n",
    ")\n",
    "\n",
    "# 1. Min login, max logout per session\n",
    "session_times = clean_df.groupBy(\"player_id\", \"session_id\").agg(\n",
    "    F.min(\"timestamp\").alias(\"login_time\"),\n",
    "    F.max(\"timestamp\").alias(\"logout_time\")\n",
    ")\n",
    "\n",
    "# 2. Session length in minutes\n",
    "session_times = session_times.withColumn(\n",
    "    \"session_length_min\",\n",
    "    (F.unix_timestamp(\"logout_time\") - F.unix_timestamp(\"login_time\")) / 60\n",
    ")\n",
    "\n",
    "# 3. Max session length per player\n",
    "max_session_per_player = session_times.groupBy(\"player_id\").agg(\n",
    "    F.max(\"session_length_min\").alias(\"max_session_length_min\")\n",
    ")\n",
    "\n",
    "# 4. Join with player info\n",
    "result_df = max_session_per_player.join(\n",
    "    df1.select(\"player_id\", \"player_name\", \"country\"),\n",
    "    on=\"player_id\",\n",
    "    how=\"inner\"\n",
    ")\n",
    "\n",
    "display(result_df)\n"
   ]
  },
  {
   "cell_type": "code",
   "execution_count": 0,
   "metadata": {
    "application/vnd.databricks.v1+cell": {
     "cellMetadata": {
      "byteLimit": 2048000,
      "rowLimit": 10000
     },
     "inputWidgets": {},
     "nuid": "22832484-86ac-48ce-b3a5-08ab31935652",
     "showTitle": true,
     "tableResultSettingsMap": {},
     "title": "top 5 players by total spend"
    }
   },
   "outputs": [],
   "source": [
    "# overwrite joined_df with clean version (only one player_id)\n",
    "clean_joined = joined_df.select(\n",
    "    df1[\"player_id\"].alias(\"player_id\"),\n",
    "    df1[\"player_name\"],\n",
    "    df1[\"country\"],\n",
    "    df2[\"session_id\"],\n",
    "    df2[\"amount_spent\"],\n",
    "    df2[\"timestamp\"]\n",
    ")\n",
    "\n",
    "# create temp view\n",
    "clean_joined.createOrReplaceTempView(\"joined_df\")\n"
   ]
  },
  {
   "cell_type": "code",
   "execution_count": 0,
   "metadata": {
    "application/vnd.databricks.v1+cell": {
     "cellMetadata": {
      "byteLimit": 2048000,
      "rowLimit": 10000
     },
     "inputWidgets": {},
     "nuid": "319c6842-f801-4043-bbab-7a764fba6b4f",
     "showTitle": false,
     "tableResultSettingsMap": {},
     "title": ""
    }
   },
   "outputs": [
    {
     "output_type": "display_data",
     "data": {
      "text/html": [
       "<style scoped>\n",
       "  .table-result-container {\n",
       "    max-height: 300px;\n",
       "    overflow: auto;\n",
       "  }\n",
       "  table, th, td {\n",
       "    border: 1px solid black;\n",
       "    border-collapse: collapse;\n",
       "  }\n",
       "  th, td {\n",
       "    padding: 5px;\n",
       "  }\n",
       "  th {\n",
       "    text-align: left;\n",
       "  }\n",
       "</style><div class='table-result-container'><table class='table-result'><thead style='background-color: white'><tr><th>player_id</th><th>player_name</th><th>country</th><th>total_spent</th><th>rank</th></tr></thead><tbody><tr><td>P19</td><td>Ravi</td><td>USA</td><td>400</td><td>1</td></tr><tr><td>P09</td><td>Sneha</td><td>UK</td><td>300</td><td>2</td></tr><tr><td>P13</td><td>Neha</td><td>India</td><td>300</td><td>2</td></tr><tr><td>P02</td><td>Pooja</td><td>UK</td><td>250</td><td>4</td></tr><tr><td>P12</td><td>Neha</td><td>Germany</td><td>220</td><td>5</td></tr></tbody></table></div>"
      ]
     },
     "metadata": {
      "application/vnd.databricks.v1+output": {
       "addedWidgets": {},
       "aggData": [],
       "aggError": "",
       "aggOverflow": false,
       "aggSchema": [],
       "aggSeriesLimitReached": false,
       "aggType": "",
       "arguments": {},
       "columnCustomDisplayInfos": {},
       "data": [
        [
         "P19",
         "Ravi",
         "USA",
         400,
         1
        ],
        [
         "P09",
         "Sneha",
         "UK",
         300,
         2
        ],
        [
         "P13",
         "Neha",
         "India",
         300,
         2
        ],
        [
         "P02",
         "Pooja",
         "UK",
         250,
         4
        ],
        [
         "P12",
         "Neha",
         "Germany",
         220,
         5
        ]
       ],
       "datasetInfos": [],
       "dbfsResultPath": null,
       "isJsonSchema": true,
       "metadata": {},
       "overflow": false,
       "plotOptions": {
        "customPlotOptions": {},
        "displayType": "table",
        "pivotAggregation": null,
        "pivotColumns": null,
        "xColumns": null,
        "yColumns": null
       },
       "removedWidgets": [],
       "schema": [
        {
         "metadata": "{}",
         "name": "player_id",
         "type": "\"string\""
        },
        {
         "metadata": "{}",
         "name": "player_name",
         "type": "\"string\""
        },
        {
         "metadata": "{}",
         "name": "country",
         "type": "\"string\""
        },
        {
         "metadata": "{}",
         "name": "total_spent",
         "type": "\"long\""
        },
        {
         "metadata": "{}",
         "name": "rank",
         "type": "\"integer\""
        }
       ],
       "type": "table"
      }
     },
     "output_type": "display_data"
    },
    {
     "output_type": "display_data",
     "data": {
      "text/plain": [
       "Databricks visualization. Run in Databricks to view."
      ]
     },
     "metadata": {
      "application/vnd.databricks.v1.subcommand+json": {
       "baseErrorDetails": null,
       "bindings": {},
       "collapsed": false,
       "command": "%python\n__backend_agg_display_orig = display\n__backend_agg_dfs = []\ndef __backend_agg_display_new(df):\n    __backend_agg_df_modules = [\"pandas.core.frame\", \"databricks.koalas.frame\", \"pyspark.sql.dataframe\", \"pyspark.pandas.frame\", \"pyspark.sql.connect.dataframe\"]\n    if (type(df).__module__ in __backend_agg_df_modules and type(df).__name__ == 'DataFrame') or isinstance(df, list):\n        __backend_agg_dfs.append(df)\n\ndisplay = __backend_agg_display_new\n\ndef __backend_agg_user_code_fn():\n    import base64\n    exec(base64.standard_b64decode(\"dG9wNV9zcGVuZGVycyA9IHNwYXJrLnNxbCgiIiIKICAgIFNFTEVDVCAKICAgICAgICBwbGF5ZXJfaWQsCiAgICAgICAgcGxheWVyX25hbWUsCiAgICAgICAgY291bnRyeSwKICAgICAgICBTVU0oYW1vdW50X3NwZW50KSBBUyB0b3RhbF9zcGVudCwKICAgICAgICBSQU5LKCkgT1ZFUiAoT1JERVIgQlkgU1VNKGFtb3VudF9zcGVudCkgREVTQykgQVMgcmFuawogICAgRlJPTSBqb2luZWRfZGYKICAgIEdST1VQIEJZIHBsYXllcl9pZCwgcGxheWVyX25hbWUsIGNvdW50cnkKICAgIE9SREVSIEJZIHRvdGFsX3NwZW50IERFU0MKICAgIExJTUlUIDUKIiIiKQoKZGlzcGxheSh0b3A1X3NwZW5kZXJzKQo=\").decode())\n\ntry:\n    # run user code\n    __backend_agg_user_code_fn()\n\n    #reset display function\n    display = __backend_agg_display_orig\n\n    if len(__backend_agg_dfs) > 0:\n        # create a temp view\n        if type(__backend_agg_dfs[0]).__module__ == \"databricks.koalas.frame\":\n            # koalas dataframe\n            __backend_agg_dfs[0].to_spark().createOrReplaceTempView(\"DatabricksView5c5a576\")\n        elif type(__backend_agg_dfs[0]).__module__ == \"pandas.core.frame\" or isinstance(__backend_agg_dfs[0], list):\n            # pandas dataframe\n            spark.createDataFrame(__backend_agg_dfs[0]).createOrReplaceTempView(\"DatabricksView5c5a576\")\n        else:\n            __backend_agg_dfs[0].createOrReplaceTempView(\"DatabricksView5c5a576\")\n        #run backend agg\n        display(spark.sql(\"\"\"WITH q AS (select * from DatabricksView5c5a576) SELECT `player_name`,SUM(`total_spent`) `column_8faf0617410` FROM q GROUP BY `player_name`\"\"\"))\n    else:\n        displayHTML(\"dataframe no longer exists. If you're using dataframe.display(), use display(dataframe) instead.\")\n\n\nfinally:\n    spark.sql(\"drop view if exists DatabricksView5c5a576\")\n    display = __backend_agg_display_orig\n    del __backend_agg_display_new\n    del __backend_agg_display_orig\n    del __backend_agg_dfs\n    del __backend_agg_user_code_fn\n\n",
       "commandTitle": "Visualization 2",
       "commandType": "auto",
       "commandVersion": 0,
       "commentThread": [],
       "commentsVisible": false,
       "contentSha256Hex": null,
       "customPlotOptions": {
        "redashChart": [
         {
          "key": "type",
          "value": "CHART"
         },
         {
          "key": "options",
          "value": {
           "alignYAxesAtZero": true,
           "coefficient": 1,
           "columnConfigurationMap": {
            "x": {
             "column": "player_name",
             "id": "column_8faf0617408"
            },
            "y": [
             {
              "column": "total_spent",
              "id": "column_8faf0617410",
              "transform": "SUM"
             }
            ]
           },
           "dateTimeFormat": "DD/MM/YYYY HH:mm",
           "direction": {
            "type": "counterclockwise"
           },
           "error_y": {
            "type": "data",
            "visible": true
           },
           "globalSeriesType": "column",
           "isAggregationOn": true,
           "legend": {
            "traceorder": "normal"
           },
           "missingValuesAsZero": true,
           "numberFormat": "0,0.[00000]",
           "percentFormat": "0[.]00%",
           "series": {
            "error_y": {
             "type": "data",
             "visible": true
            },
            "stacking": null
           },
           "seriesOptions": {
            "column_8faf0617410": {
             "color": "#00A972",
             "type": "column",
             "yAxis": 0
            }
           },
           "showDataLabels": false,
           "sizemode": "diameter",
           "sortX": true,
           "sortY": true,
           "swappedAxes": true,
           "textFormat": "",
           "useAggregationsUi": true,
           "valuesOptions": {},
           "version": 2,
           "xAxis": {
            "labels": {
             "enabled": true
            },
            "type": "-"
           },
           "yAxis": [
            {
             "type": "-"
            },
            {
             "opposite": true,
             "type": "-"
            }
           ]
          }
         }
        ]
       },
       "datasetPreviewNameToCmdIdMap": {},
       "diffDeletes": [],
       "diffInserts": [],
       "displayType": "redashChart",
       "error": null,
       "errorDetails": null,
       "errorSummary": null,
       "errorTraceType": null,
       "finishTime": 0,
       "globalVars": {},
       "guid": "",
       "height": "auto",
       "hideCommandCode": false,
       "hideCommandResult": false,
       "iPythonMetadata": null,
       "inputWidgets": {},
       "isLockedInExamMode": false,
       "latestUser": "a user",
       "latestUserId": null,
       "listResultMetadata": null,
       "metadata": {},
       "nuid": "33f57135-b0d9-4628-a906-ec21aa07f891",
       "origId": 0,
       "parentHierarchy": [],
       "pivotAggregation": null,
       "pivotColumns": null,
       "position": 17.0,
       "resultDbfsErrorMessage": null,
       "resultDbfsStatus": "INLINED_IN_TREE",
       "results": null,
       "showCommandTitle": false,
       "startTime": 0,
       "state": "input",
       "streamStates": {},
       "subcommandOptions": {
        "queryPlan": {
         "groups": [
          {
           "column": "player_name",
           "type": "column"
          }
         ],
         "selects": [
          {
           "column": "player_name",
           "type": "column"
          },
          {
           "alias": "column_8faf0617410",
           "args": [
            {
             "column": "total_spent",
             "type": "column"
            }
           ],
           "function": "SUM",
           "type": "function"
          }
         ]
        }
       },
       "submitTime": 0,
       "subtype": "tableResultSubCmd.visualization",
       "tableResultIndex": 0,
       "tableResultSettingsMap": {},
       "useConsistentColors": false,
       "version": "CommandV1",
       "width": "auto",
       "workflows": [],
       "xColumns": null,
       "yColumns": null
      }
     },
     "output_type": "display_data"
    }
   ],
   "source": [
    "top5_spenders = spark.sql(\"\"\"\n",
    "    SELECT \n",
    "        player_id,\n",
    "        player_name,\n",
    "        country,\n",
    "        SUM(amount_spent) AS total_spent,\n",
    "        RANK() OVER (ORDER BY SUM(amount_spent) DESC) AS rank\n",
    "    FROM joined_df\n",
    "    GROUP BY player_id, player_name, country\n",
    "    ORDER BY total_spent DESC\n",
    "    LIMIT 5\n",
    "\"\"\")\n",
    "\n",
    "display(top5_spenders)\n"
   ]
  },
  {
   "cell_type": "code",
   "execution_count": 0,
   "metadata": {
    "application/vnd.databricks.v1+cell": {
     "cellMetadata": {
      "byteLimit": 2048000,
      "implicitDf": true,
      "rowLimit": 10000
     },
     "inputWidgets": {},
     "nuid": "b756ce91-5294-4e64-964f-7cb39d33871b",
     "showTitle": true,
     "tableResultSettingsMap": {},
     "title": "churn rate and churn customers"
    }
   },
   "outputs": [],
   "source": [
    "%sql\n",
    "CREATE OR REPLACE TEMP VIEW player_activity AS\n",
    "SELECT \n",
    "    player_id,\n",
    "    player_name,\n",
    "    country,\n",
    "    TO_TIMESTAMP(timestamp, 'M/d/yyyy H:mm') AS activity_time,\n",
    "    DATE_TRUNC('month', TO_TIMESTAMP(timestamp, 'M/d/yyyy H:mm')) AS activity_month\n",
    "FROM joined_df;\n"
   ]
  },
  {
   "cell_type": "code",
   "execution_count": 0,
   "metadata": {
    "application/vnd.databricks.v1+cell": {
     "cellMetadata": {
      "byteLimit": 2048000,
      "implicitDf": true,
      "rowLimit": 10000
     },
     "inputWidgets": {},
     "nuid": "c5ac585e-df93-4aa3-b23a-85ee5dc62484",
     "showTitle": false,
     "tableResultSettingsMap": {},
     "title": ""
    }
   },
   "outputs": [],
   "source": [
    "%sql\n",
    "-- Distinct players active per month\n",
    "CREATE OR REPLACE TEMP VIEW active_players AS\n",
    "SELECT DISTINCT\n",
    "    player_id,\n",
    "    player_name,\n",
    "    country,\n",
    "    activity_month\n",
    "FROM player_activity;\n"
   ]
  },
  {
   "cell_type": "code",
   "execution_count": 0,
   "metadata": {
    "application/vnd.databricks.v1+cell": {
     "cellMetadata": {
      "byteLimit": 2048000,
      "implicitDf": true,
      "rowLimit": 10000
     },
     "inputWidgets": {},
     "nuid": "7e7fb621-2521-46ea-bed4-f95097e65a74",
     "showTitle": false,
     "tableResultSettingsMap": {},
     "title": ""
    }
   },
   "outputs": [
    {
     "output_type": "display_data",
     "data": {
      "text/html": [
       "<style scoped>\n",
       "  .table-result-container {\n",
       "    max-height: 300px;\n",
       "    overflow: auto;\n",
       "  }\n",
       "  table, th, td {\n",
       "    border: 1px solid black;\n",
       "    border-collapse: collapse;\n",
       "  }\n",
       "  th, td {\n",
       "    padding: 5px;\n",
       "  }\n",
       "  th {\n",
       "    text-align: left;\n",
       "  }\n",
       "</style><div class='table-result-container'><table class='table-result'><thead style='background-color: white'><tr><th>churn_players</th><th>players_last_month</th><th>churn_rate_percentage</th></tr></thead><tbody><tr><td>10</td><td>10</td><td>100.00000000000000</td></tr></tbody></table></div>"
      ]
     },
     "metadata": {
      "application/vnd.databricks.v1+output": {
       "addedWidgets": {},
       "aggData": [],
       "aggError": "",
       "aggOverflow": false,
       "aggSchema": [],
       "aggSeriesLimitReached": false,
       "aggType": "",
       "arguments": {},
       "columnCustomDisplayInfos": {},
       "data": [
        [
         10,
         10,
         "100.00000000000000"
        ]
       ],
       "datasetInfos": [
        {
         "name": "_sqldf",
         "schema": {
          "fields": [
           {
            "metadata": {},
            "name": "churn_players",
            "nullable": false,
            "type": "long"
           },
           {
            "metadata": {},
            "name": "players_last_month",
            "nullable": true,
            "type": "long"
           },
           {
            "metadata": {},
            "name": "churn_rate_percentage",
            "nullable": true,
            "type": "decimal(38,14)"
           }
          ],
          "type": "struct"
         },
         "tableIdentifier": null,
         "typeStr": "pyspark.sql.connect.dataframe.DataFrame"
        }
       ],
       "dbfsResultPath": null,
       "isJsonSchema": true,
       "metadata": {
        "createTempViewForImplicitDf": true,
        "dataframeName": "_sqldf",
        "executionCount": 134
       },
       "overflow": false,
       "plotOptions": {
        "customPlotOptions": {},
        "displayType": "table",
        "pivotAggregation": null,
        "pivotColumns": null,
        "xColumns": null,
        "yColumns": null
       },
       "removedWidgets": [],
       "schema": [
        {
         "metadata": "{}",
         "name": "churn_players",
         "type": "\"long\""
        },
        {
         "metadata": "{}",
         "name": "players_last_month",
         "type": "\"long\""
        },
        {
         "metadata": "{}",
         "name": "churn_rate_percentage",
         "type": "\"decimal(38,14)\""
        }
       ],
       "type": "table"
      }
     },
     "output_type": "display_data"
    },
    {
     "output_type": "display_data",
     "data": {
      "text/plain": [
       "Databricks visualization. Run in Databricks to view."
      ]
     },
     "metadata": {
      "application/vnd.databricks.v1.subcommand+json": {
       "baseErrorDetails": null,
       "bindings": {},
       "collapsed": false,
       "command": "%sql WITH q AS (WITH last_month AS (\n    SELECT DISTINCT player_id \n    FROM active_players\n    WHERE activity_month = ADD_MONTHS(DATE_TRUNC('month', CURRENT_DATE), -1)\n),\nthis_month AS (\n    SELECT DISTINCT player_id \n    FROM active_players\n    WHERE activity_month = DATE_TRUNC('month', CURRENT_DATE)\n),\nchurned AS (\n    SELECT l.player_id\n    FROM last_month l\n    LEFT ANTI JOIN this_month t\n    ON l.player_id = t.player_id\n)\n\n\nSELECT\n    COUNT(c.player_id) AS churn_players,\n    (SELECT COUNT(*) FROM last_month) AS players_last_month,\n    (COUNT(c.player_id) * 100.0 / (SELECT COUNT(*) FROM last_month)) AS churn_rate_percentage\nFROM churned c) SELECT `churn_rate_percentage`,SUM(`churn_players`) `column_63daa608251`,`churn_players` FROM q GROUP BY `churn_players`,`churn_rate_percentage`",
       "commandTitle": "Visualization 1",
       "commandType": "auto",
       "commandVersion": 0,
       "commentThread": [],
       "commentsVisible": false,
       "contentSha256Hex": null,
       "customPlotOptions": {
        "redashChart": [
         {
          "key": "type",
          "value": "CHART"
         },
         {
          "key": "options",
          "value": {
           "alignYAxesAtZero": true,
           "coefficient": 1,
           "columnConfigurationMap": {
            "series": {
             "column": "churn_players",
             "id": "column_63daa608249"
            },
            "x": {
             "column": "churn_rate_percentage",
             "id": "column_63daa608248"
            },
            "y": [
             {
              "column": "churn_players",
              "id": "column_63daa608251",
              "transform": "SUM"
             }
            ]
           },
           "dateTimeFormat": "DD/MM/YYYY HH:mm",
           "direction": {
            "type": "counterclockwise"
           },
           "error_y": {
            "type": "data",
            "visible": true
           },
           "globalSeriesType": "pie",
           "isAggregationOn": true,
           "legend": {
            "traceorder": "normal"
           },
           "missingValuesAsZero": true,
           "numberFormat": "0,0.[00000]",
           "percentFormat": "0[.]00%",
           "series": {
            "error_y": {
             "type": "data",
             "visible": true
            },
            "stacking": null
           },
           "seriesOptions": {
            "column_63daa608251": {
             "type": "pie",
             "yAxis": 0
            }
           },
           "showDataLabels": true,
           "sizemode": "diameter",
           "sortX": true,
           "sortY": true,
           "swappedAxes": false,
           "textFormat": "",
           "useAggregationsUi": true,
           "valuesOptions": {
            "100": {
             "color": "#FF3621"
            }
           },
           "version": 2,
           "xAxis": {
            "labels": {
             "enabled": true
            },
            "type": "-"
           },
           "yAxis": [
            {
             "type": "-"
            },
            {
             "opposite": true,
             "type": "-"
            }
           ]
          }
         }
        ]
       },
       "datasetPreviewNameToCmdIdMap": {},
       "diffDeletes": [],
       "diffInserts": [],
       "displayType": "redashChart",
       "error": null,
       "errorDetails": null,
       "errorSummary": null,
       "errorTraceType": null,
       "finishTime": 0,
       "globalVars": {},
       "guid": "",
       "height": "auto",
       "hideCommandCode": false,
       "hideCommandResult": false,
       "iPythonMetadata": null,
       "inputWidgets": {},
       "isLockedInExamMode": false,
       "latestUser": "a user",
       "latestUserId": null,
       "listResultMetadata": null,
       "metadata": {},
       "nuid": "5a9ba47a-b5a5-4c80-9649-426e855c532f",
       "origId": 0,
       "parentHierarchy": [],
       "pivotAggregation": null,
       "pivotColumns": null,
       "position": 22.0,
       "resultDbfsErrorMessage": null,
       "resultDbfsStatus": "INLINED_IN_TREE",
       "results": null,
       "showCommandTitle": false,
       "startTime": 0,
       "state": "input",
       "streamStates": {},
       "subcommandOptions": {
        "queryPlan": {
         "groups": [
          {
           "column": "churn_rate_percentage",
           "type": "column"
          },
          {
           "column": "churn_players",
           "type": "column"
          }
         ],
         "selects": [
          {
           "column": "churn_rate_percentage",
           "type": "column"
          },
          {
           "alias": "column_63daa608251",
           "args": [
            {
             "column": "churn_players",
             "type": "column"
            }
           ],
           "function": "SUM",
           "type": "function"
          },
          {
           "column": "churn_players",
           "type": "column"
          }
         ]
        }
       },
       "submitTime": 0,
       "subtype": "tableResultSubCmd.visualization",
       "tableResultIndex": 0,
       "tableResultSettingsMap": {},
       "useConsistentColors": false,
       "version": "CommandV1",
       "width": "auto",
       "workflows": [],
       "xColumns": null,
       "yColumns": null
      }
     },
     "output_type": "display_data"
    }
   ],
   "source": [
    "%sql\n",
    "-- Last month vs this month players\n",
    "WITH last_month AS (\n",
    "    SELECT DISTINCT player_id \n",
    "    FROM active_players\n",
    "    WHERE activity_month = ADD_MONTHS(DATE_TRUNC('month', CURRENT_DATE), -1)\n",
    "),\n",
    "this_month AS (\n",
    "    SELECT DISTINCT player_id \n",
    "    FROM active_players\n",
    "    WHERE activity_month = DATE_TRUNC('month', CURRENT_DATE)\n",
    "),\n",
    "churned AS (\n",
    "    SELECT l.player_id\n",
    "    FROM last_month l\n",
    "    LEFT ANTI JOIN this_month t\n",
    "    ON l.player_id = t.player_id\n",
    ")\n",
    "\n",
    "-- Churn rate\n",
    "SELECT\n",
    "    COUNT(c.player_id) AS churn_players,\n",
    "    (SELECT COUNT(*) FROM last_month) AS players_last_month,\n",
    "    (COUNT(c.player_id) * 100.0 / (SELECT COUNT(*) FROM last_month)) AS churn_rate_percentage\n",
    "FROM churned c;\n"
   ]
  },
  {
   "cell_type": "code",
   "execution_count": 0,
   "metadata": {
    "application/vnd.databricks.v1+cell": {
     "cellMetadata": {},
     "inputWidgets": {},
     "nuid": "20a835a9-9962-407a-abf5-3e9f7472f558",
     "showTitle": false,
     "tableResultSettingsMap": {},
     "title": ""
    }
   },
   "outputs": [],
   "source": []
  }
 ],
 "metadata": {
  "application/vnd.databricks.v1+notebook": {
   "computePreferences": null,
   "dashboards": [
    {
     "elements": [
      {
       "dashboardResultIndex": null,
       "elementNUID": "5a9ba47a-b5a5-4c80-9649-426e855c532f",
       "elementType": "command",
       "guid": "484d2b6a-d6c1-499d-952a-70cb9f11109a",
       "options": {
        "autoScaleImg": false,
        "scale": 0,
        "showTitle": true,
        "title": "customer churn",
        "titleAlign": "center"
       },
       "position": {
        "height": 6,
        "width": 12,
        "x": 0,
        "y": 0,
        "z": null
       },
       "resultIndex": null
      },
      {
       "dashboardResultIndex": null,
       "elementNUID": "469a353d-a67c-405a-8258-42cfe67951ef",
       "elementType": "command",
       "guid": "4f1910ac-227f-4c1d-9d4c-3de388d3be36",
       "options": {
        "autoScaleImg": false,
        "scale": 0,
        "showTitle": true,
        "title": "max session time per player",
        "titleAlign": "center"
       },
       "position": {
        "height": 11,
        "width": 14,
        "x": 10,
        "y": 6,
        "z": null
       },
       "resultIndex": null
      },
      {
       "dashboardResultIndex": null,
       "elementNUID": "f9ca9464-7fb5-49ac-ac2a-7e372c374763",
       "elementType": "command",
       "guid": "9774f2ee-0702-4d5d-8185-9928c4306008",
       "options": {
        "autoScaleImg": false,
        "scale": 0,
        "showTitle": true,
        "title": "total in-game purchases per player",
        "titleAlign": "center"
       },
       "position": {
        "height": 9,
        "width": 24,
        "x": 0,
        "y": 17,
        "z": null
       },
       "resultIndex": null
      },
      {
       "dashboardResultIndex": 0,
       "elementNUID": "7e7fb621-2521-46ea-bed4-f95097e65a74",
       "elementType": "command",
       "guid": "f571f0df-2d99-4a1d-a5e2-fc39020fb47b",
       "options": null,
       "position": {
        "height": 6,
        "width": 12,
        "x": 12,
        "y": 0,
        "z": null
       },
       "resultIndex": null
      },
      {
       "dashboardResultIndex": null,
       "elementNUID": "33f57135-b0d9-4628-a906-ec21aa07f891",
       "elementType": "command",
       "guid": "fa2678ff-ee54-4cba-bdfe-d5760d8c8b9b",
       "options": {
        "autoScaleImg": false,
        "scale": 0,
        "showTitle": true,
        "title": "top 5 according to amount spent",
        "titleAlign": "center"
       },
       "position": {
        "height": 11,
        "width": 10,
        "x": 0,
        "y": 6,
        "z": null
       },
       "resultIndex": null
      }
     ],
     "globalVars": {},
     "guid": "",
     "layoutOption": {
      "grid": true,
      "stack": true
     },
     "nuid": "2d3ae277-b578-4fec-8bac-586ec1bfda8b",
     "origId": 4504934335381693,
     "title": "exam_dashboard",
     "version": "DashboardViewV1",
     "width": 1024
    }
   ],
   "environmentMetadata": null,
   "inputWidgetPreferences": null,
   "language": "python",
   "notebookMetadata": {
    "mostRecentlyExecutedCommandWithImplicitDF": {
     "commandId": 7622202381241100,
     "dataframes": [
      "_sqldf"
     ]
    },
    "pythonIndentUnit": 2
   },
   "notebookName": "24MBMB26 NITIN",
   "widgets": {}
  },
  "language_info": {
   "name": "python"
  }
 },
 "nbformat": 4,
 "nbformat_minor": 0
}